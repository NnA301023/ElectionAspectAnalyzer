{
 "cells": [
  {
   "cell_type": "code",
   "execution_count": 1,
   "metadata": {},
   "outputs": [],
   "source": [
    "# Load libraries\n",
    "import os\n",
    "import numpy as np\n",
    "import pandas as pd"
   ]
  },
  {
   "cell_type": "code",
   "execution_count": 2,
   "metadata": {},
   "outputs": [],
   "source": [
    "# Define List of keywords \n",
    "list_keywords = [\n",
    "    \"Anies Baswedan\", \n",
    "    \"Muhaimin Iskandar\",\n",
    "    \"Ganjar Pranowo\", \n",
    "    \"Mahfud MD\",\n",
    "    \"Gibran Rakabuming\",\n",
    "    \"Prabowo Subianto\"\n",
    "]"
   ]
  },
  {
   "cell_type": "markdown",
   "metadata": {},
   "source": [
    "### Anies Baswedan"
   ]
  },
  {
   "cell_type": "code",
   "execution_count": 3,
   "metadata": {},
   "outputs": [],
   "source": [
    "# Define path dataset\n",
    "path_dataset = [\n",
    "    \"twitter_data/Anies_Baswedan_1.csv\", \n",
    "    \"twitter_data/Anies_Baswedan_1.2_.csv\"\n",
    "]\n",
    "target_result = \"final_dataset/twitter_anies_baswedan.csv\""
   ]
  },
  {
   "cell_type": "code",
   "execution_count": 5,
   "metadata": {},
   "outputs": [],
   "source": [
    "# Read dataset\n",
    "data_1 = pd.read_csv(path_dataset[0].replace(\"\\r\", \"/r\"), sep=\";\")\n",
    "data_1 = data_1.replace(\"\", np.nan)"
   ]
  },
  {
   "cell_type": "code",
   "execution_count": 6,
   "metadata": {},
   "outputs": [],
   "source": [
    "# Read dataset\n",
    "data_2 = pd.read_csv(path_dataset[1].replace(\"\\r\", \"/r\"), sep=\";\")\n",
    "data_2 = data_2.replace(\"\", np.nan)"
   ]
  },
  {
   "cell_type": "code",
   "execution_count": 7,
   "metadata": {},
   "outputs": [
    {
     "data": {
      "text/plain": [
       "((224, 12), (495, 12))"
      ]
     },
     "execution_count": 7,
     "metadata": {},
     "output_type": "execute_result"
    }
   ],
   "source": [
    "# Overview dataset\n",
    "data_1.shape, data_2.shape"
   ]
  },
  {
   "cell_type": "code",
   "execution_count": 8,
   "metadata": {},
   "outputs": [
    {
     "data": {
      "text/plain": [
       "created_at             0\n",
       "id_str                 0\n",
       "full_text              0\n",
       "quote_count            0\n",
       "reply_count            0\n",
       "retweet_count          0\n",
       "favorite_count         0\n",
       "lang                   0\n",
       "user_id_str            0\n",
       "conversation_id_str    0\n",
       "username               0\n",
       "tweet_url              0\n",
       "dtype: int64"
      ]
     },
     "execution_count": 8,
     "metadata": {},
     "output_type": "execute_result"
    }
   ],
   "source": [
    "# Overview dataset\n",
    "data_1.isna().sum()"
   ]
  },
  {
   "cell_type": "code",
   "execution_count": 9,
   "metadata": {},
   "outputs": [
    {
     "data": {
      "text/plain": [
       "created_at             0\n",
       "id_str                 0\n",
       "full_text              0\n",
       "quote_count            0\n",
       "reply_count            0\n",
       "retweet_count          0\n",
       "favorite_count         0\n",
       "lang                   0\n",
       "user_id_str            0\n",
       "conversation_id_str    0\n",
       "username               0\n",
       "tweet_url              0\n",
       "dtype: int64"
      ]
     },
     "execution_count": 9,
     "metadata": {},
     "output_type": "execute_result"
    }
   ],
   "source": [
    "# Overview dataset\n",
    "data_2.isna().sum()"
   ]
  },
  {
   "cell_type": "code",
   "execution_count": 10,
   "metadata": {},
   "outputs": [
    {
     "data": {
      "text/html": [
       "<div>\n",
       "<style scoped>\n",
       "    .dataframe tbody tr th:only-of-type {\n",
       "        vertical-align: middle;\n",
       "    }\n",
       "\n",
       "    .dataframe tbody tr th {\n",
       "        vertical-align: top;\n",
       "    }\n",
       "\n",
       "    .dataframe thead th {\n",
       "        text-align: right;\n",
       "    }\n",
       "</style>\n",
       "<table border=\"1\" class=\"dataframe\">\n",
       "  <thead>\n",
       "    <tr style=\"text-align: right;\">\n",
       "      <th></th>\n",
       "      <th>created_at</th>\n",
       "      <th>id_str</th>\n",
       "      <th>full_text</th>\n",
       "      <th>quote_count</th>\n",
       "      <th>reply_count</th>\n",
       "      <th>retweet_count</th>\n",
       "      <th>favorite_count</th>\n",
       "      <th>lang</th>\n",
       "      <th>user_id_str</th>\n",
       "      <th>conversation_id_str</th>\n",
       "      <th>username</th>\n",
       "      <th>tweet_url</th>\n",
       "    </tr>\n",
       "  </thead>\n",
       "  <tbody>\n",
       "    <tr>\n",
       "      <th>0</th>\n",
       "      <td>Wed Nov 29 23:59:56 +0000 2023</td>\n",
       "      <td>1730013756275699835</td>\n",
       "      <td>@DPP_PKB @aniesbaswedan @cakimiNOW Pemerataan ...</td>\n",
       "      <td>0</td>\n",
       "      <td>0</td>\n",
       "      <td>0</td>\n",
       "      <td>1</td>\n",
       "      <td>in</td>\n",
       "      <td>351779019</td>\n",
       "      <td>1729813504528650579</td>\n",
       "      <td>ArdyKobar</td>\n",
       "      <td>https://twitter.com/ArdyKobar/status/173001375...</td>\n",
       "    </tr>\n",
       "    <tr>\n",
       "      <th>1</th>\n",
       "      <td>Wed Nov 29 23:59:49 +0000 2023</td>\n",
       "      <td>1730013728538776013</td>\n",
       "      <td>@voiceofpkb @aniesbaswedan @cakimiNOW AMIN pem...</td>\n",
       "      <td>0</td>\n",
       "      <td>0</td>\n",
       "      <td>0</td>\n",
       "      <td>0</td>\n",
       "      <td>in</td>\n",
       "      <td>1591443470840782848</td>\n",
       "      <td>1729799082166952113</td>\n",
       "      <td>rz_sani</td>\n",
       "      <td>https://twitter.com/rz_sani/status/17300137285...</td>\n",
       "    </tr>\n",
       "    <tr>\n",
       "      <th>2</th>\n",
       "      <td>Wed Nov 29 23:59:40 +0000 2023</td>\n",
       "      <td>1730013691972923743</td>\n",
       "      <td>@DPP_PKB @aniesbaswedan @cakimiNOW Mantaaapppp</td>\n",
       "      <td>0</td>\n",
       "      <td>0</td>\n",
       "      <td>0</td>\n",
       "      <td>0</td>\n",
       "      <td>in</td>\n",
       "      <td>1618525026264973313</td>\n",
       "      <td>1729795434812731393</td>\n",
       "      <td>VincentVf4</td>\n",
       "      <td>https://twitter.com/VincentVf4/status/17300136...</td>\n",
       "    </tr>\n",
       "    <tr>\n",
       "      <th>3</th>\n",
       "      <td>Wed Nov 29 23:59:40 +0000 2023</td>\n",
       "      <td>1730013689758224665</td>\n",
       "      <td>@voiceofpkb @aniesbaswedan @cakimiNOW Amin Unt...</td>\n",
       "      <td>0</td>\n",
       "      <td>0</td>\n",
       "      <td>0</td>\n",
       "      <td>1</td>\n",
       "      <td>in</td>\n",
       "      <td>1690723500670193664</td>\n",
       "      <td>1729739988970213732</td>\n",
       "      <td>HendrikHar40798</td>\n",
       "      <td>https://twitter.com/HendrikHar40798/status/173...</td>\n",
       "    </tr>\n",
       "    <tr>\n",
       "      <th>4</th>\n",
       "      <td>Wed Nov 29 23:59:37 +0000 2023</td>\n",
       "      <td>1730013678051950693</td>\n",
       "      <td>@DPP_PKB @aniesbaswedan @cakimiNOW 👍</td>\n",
       "      <td>0</td>\n",
       "      <td>0</td>\n",
       "      <td>0</td>\n",
       "      <td>0</td>\n",
       "      <td>qme</td>\n",
       "      <td>911893655685709825</td>\n",
       "      <td>1729795434812731393</td>\n",
       "      <td>HosniselH</td>\n",
       "      <td>https://twitter.com/HosniselH/status/173001367...</td>\n",
       "    </tr>\n",
       "  </tbody>\n",
       "</table>\n",
       "</div>"
      ],
      "text/plain": [
       "                       created_at               id_str  \\\n",
       "0  Wed Nov 29 23:59:56 +0000 2023  1730013756275699835   \n",
       "1  Wed Nov 29 23:59:49 +0000 2023  1730013728538776013   \n",
       "2  Wed Nov 29 23:59:40 +0000 2023  1730013691972923743   \n",
       "3  Wed Nov 29 23:59:40 +0000 2023  1730013689758224665   \n",
       "4  Wed Nov 29 23:59:37 +0000 2023  1730013678051950693   \n",
       "\n",
       "                                           full_text  quote_count  \\\n",
       "0  @DPP_PKB @aniesbaswedan @cakimiNOW Pemerataan ...            0   \n",
       "1  @voiceofpkb @aniesbaswedan @cakimiNOW AMIN pem...            0   \n",
       "2     @DPP_PKB @aniesbaswedan @cakimiNOW Mantaaapppp            0   \n",
       "3  @voiceofpkb @aniesbaswedan @cakimiNOW Amin Unt...            0   \n",
       "4               @DPP_PKB @aniesbaswedan @cakimiNOW 👍            0   \n",
       "\n",
       "   reply_count  retweet_count  favorite_count lang          user_id_str  \\\n",
       "0            0              0               1   in            351779019   \n",
       "1            0              0               0   in  1591443470840782848   \n",
       "2            0              0               0   in  1618525026264973313   \n",
       "3            0              0               1   in  1690723500670193664   \n",
       "4            0              0               0  qme   911893655685709825   \n",
       "\n",
       "   conversation_id_str         username  \\\n",
       "0  1729813504528650579        ArdyKobar   \n",
       "1  1729799082166952113          rz_sani   \n",
       "2  1729795434812731393       VincentVf4   \n",
       "3  1729739988970213732  HendrikHar40798   \n",
       "4  1729795434812731393        HosniselH   \n",
       "\n",
       "                                           tweet_url  \n",
       "0  https://twitter.com/ArdyKobar/status/173001375...  \n",
       "1  https://twitter.com/rz_sani/status/17300137285...  \n",
       "2  https://twitter.com/VincentVf4/status/17300136...  \n",
       "3  https://twitter.com/HendrikHar40798/status/173...  \n",
       "4  https://twitter.com/HosniselH/status/173001367...  "
      ]
     },
     "execution_count": 10,
     "metadata": {},
     "output_type": "execute_result"
    }
   ],
   "source": [
    "# Overview dataset\n",
    "data_1.head()"
   ]
  },
  {
   "cell_type": "code",
   "execution_count": 11,
   "metadata": {},
   "outputs": [
    {
     "data": {
      "text/html": [
       "<div>\n",
       "<style scoped>\n",
       "    .dataframe tbody tr th:only-of-type {\n",
       "        vertical-align: middle;\n",
       "    }\n",
       "\n",
       "    .dataframe tbody tr th {\n",
       "        vertical-align: top;\n",
       "    }\n",
       "\n",
       "    .dataframe thead th {\n",
       "        text-align: right;\n",
       "    }\n",
       "</style>\n",
       "<table border=\"1\" class=\"dataframe\">\n",
       "  <thead>\n",
       "    <tr style=\"text-align: right;\">\n",
       "      <th></th>\n",
       "      <th>created_at</th>\n",
       "      <th>id_str</th>\n",
       "      <th>full_text</th>\n",
       "      <th>quote_count</th>\n",
       "      <th>reply_count</th>\n",
       "      <th>retweet_count</th>\n",
       "      <th>favorite_count</th>\n",
       "      <th>lang</th>\n",
       "      <th>user_id_str</th>\n",
       "      <th>conversation_id_str</th>\n",
       "      <th>username</th>\n",
       "      <th>tweet_url</th>\n",
       "    </tr>\n",
       "  </thead>\n",
       "  <tbody>\n",
       "    <tr>\n",
       "      <th>0</th>\n",
       "      <td>Wed Nov 29 23:59:56 +0000 2023</td>\n",
       "      <td>1730013756275699835</td>\n",
       "      <td>@DPP_PKB @aniesbaswedan @cakimiNOW Pemerataan ...</td>\n",
       "      <td>0</td>\n",
       "      <td>0</td>\n",
       "      <td>0</td>\n",
       "      <td>1</td>\n",
       "      <td>in</td>\n",
       "      <td>351779019</td>\n",
       "      <td>1729813504528650579</td>\n",
       "      <td>ArdyKobar</td>\n",
       "      <td>https://twitter.com/ArdyKobar/status/173001375...</td>\n",
       "    </tr>\n",
       "    <tr>\n",
       "      <th>1</th>\n",
       "      <td>Wed Nov 29 23:59:49 +0000 2023</td>\n",
       "      <td>1730013728538776013</td>\n",
       "      <td>@voiceofpkb @aniesbaswedan @cakimiNOW AMIN pem...</td>\n",
       "      <td>0</td>\n",
       "      <td>0</td>\n",
       "      <td>0</td>\n",
       "      <td>0</td>\n",
       "      <td>in</td>\n",
       "      <td>1591443470840782848</td>\n",
       "      <td>1729799082166952113</td>\n",
       "      <td>rz_sani</td>\n",
       "      <td>https://twitter.com/rz_sani/status/17300137285...</td>\n",
       "    </tr>\n",
       "    <tr>\n",
       "      <th>2</th>\n",
       "      <td>Wed Nov 29 23:59:40 +0000 2023</td>\n",
       "      <td>1730013691972923743</td>\n",
       "      <td>@DPP_PKB @aniesbaswedan @cakimiNOW Mantaaapppp</td>\n",
       "      <td>0</td>\n",
       "      <td>0</td>\n",
       "      <td>0</td>\n",
       "      <td>0</td>\n",
       "      <td>in</td>\n",
       "      <td>1618525026264973313</td>\n",
       "      <td>1729795434812731393</td>\n",
       "      <td>VincentVf4</td>\n",
       "      <td>https://twitter.com/VincentVf4/status/17300136...</td>\n",
       "    </tr>\n",
       "    <tr>\n",
       "      <th>3</th>\n",
       "      <td>Wed Nov 29 23:59:40 +0000 2023</td>\n",
       "      <td>1730013689758224665</td>\n",
       "      <td>@voiceofpkb @aniesbaswedan @cakimiNOW Amin Unt...</td>\n",
       "      <td>0</td>\n",
       "      <td>0</td>\n",
       "      <td>0</td>\n",
       "      <td>1</td>\n",
       "      <td>in</td>\n",
       "      <td>1690723500670193664</td>\n",
       "      <td>1729739988970213732</td>\n",
       "      <td>HendrikHar40798</td>\n",
       "      <td>https://twitter.com/HendrikHar40798/status/173...</td>\n",
       "    </tr>\n",
       "    <tr>\n",
       "      <th>4</th>\n",
       "      <td>Wed Nov 29 23:59:37 +0000 2023</td>\n",
       "      <td>1730013678051950693</td>\n",
       "      <td>@DPP_PKB @aniesbaswedan @cakimiNOW 👍</td>\n",
       "      <td>0</td>\n",
       "      <td>0</td>\n",
       "      <td>0</td>\n",
       "      <td>0</td>\n",
       "      <td>qme</td>\n",
       "      <td>911893655685709825</td>\n",
       "      <td>1729795434812731393</td>\n",
       "      <td>HosniselH</td>\n",
       "      <td>https://twitter.com/HosniselH/status/173001367...</td>\n",
       "    </tr>\n",
       "  </tbody>\n",
       "</table>\n",
       "</div>"
      ],
      "text/plain": [
       "                       created_at               id_str  \\\n",
       "0  Wed Nov 29 23:59:56 +0000 2023  1730013756275699835   \n",
       "1  Wed Nov 29 23:59:49 +0000 2023  1730013728538776013   \n",
       "2  Wed Nov 29 23:59:40 +0000 2023  1730013691972923743   \n",
       "3  Wed Nov 29 23:59:40 +0000 2023  1730013689758224665   \n",
       "4  Wed Nov 29 23:59:37 +0000 2023  1730013678051950693   \n",
       "\n",
       "                                           full_text  quote_count  \\\n",
       "0  @DPP_PKB @aniesbaswedan @cakimiNOW Pemerataan ...            0   \n",
       "1  @voiceofpkb @aniesbaswedan @cakimiNOW AMIN pem...            0   \n",
       "2     @DPP_PKB @aniesbaswedan @cakimiNOW Mantaaapppp            0   \n",
       "3  @voiceofpkb @aniesbaswedan @cakimiNOW Amin Unt...            0   \n",
       "4               @DPP_PKB @aniesbaswedan @cakimiNOW 👍            0   \n",
       "\n",
       "   reply_count  retweet_count  favorite_count lang          user_id_str  \\\n",
       "0            0              0               1   in            351779019   \n",
       "1            0              0               0   in  1591443470840782848   \n",
       "2            0              0               0   in  1618525026264973313   \n",
       "3            0              0               1   in  1690723500670193664   \n",
       "4            0              0               0  qme   911893655685709825   \n",
       "\n",
       "   conversation_id_str         username  \\\n",
       "0  1729813504528650579        ArdyKobar   \n",
       "1  1729799082166952113          rz_sani   \n",
       "2  1729795434812731393       VincentVf4   \n",
       "3  1729739988970213732  HendrikHar40798   \n",
       "4  1729795434812731393        HosniselH   \n",
       "\n",
       "                                           tweet_url  \n",
       "0  https://twitter.com/ArdyKobar/status/173001375...  \n",
       "1  https://twitter.com/rz_sani/status/17300137285...  \n",
       "2  https://twitter.com/VincentVf4/status/17300136...  \n",
       "3  https://twitter.com/HendrikHar40798/status/173...  \n",
       "4  https://twitter.com/HosniselH/status/173001367...  "
      ]
     },
     "execution_count": 11,
     "metadata": {},
     "output_type": "execute_result"
    }
   ],
   "source": [
    "# Overview dataset\n",
    "data_2.head()"
   ]
  },
  {
   "cell_type": "code",
   "execution_count": 14,
   "metadata": {},
   "outputs": [
    {
     "data": {
      "text/plain": [
       "(559, 12)"
      ]
     },
     "execution_count": 14,
     "metadata": {},
     "output_type": "execute_result"
    }
   ],
   "source": [
    "# Concatenate dataset\n",
    "data = pd.concat([data_1, data_2]).drop_duplicates(subset = ['tweet_url']).reset_index(drop = True)\n",
    "\n",
    "# Check dimension\n",
    "data.shape"
   ]
  },
  {
   "cell_type": "code",
   "execution_count": 15,
   "metadata": {},
   "outputs": [],
   "source": [
    "# Save Result\n",
    "data.to_csv(target_result, index=False)"
   ]
  },
  {
   "cell_type": "markdown",
   "metadata": {},
   "source": [
    "### Muhaimin Iskandar"
   ]
  },
  {
   "cell_type": "code",
   "execution_count": 16,
   "metadata": {},
   "outputs": [],
   "source": [
    "# Define path dataset\n",
    "path_dataset = [\n",
    "    \"twitter_data/Muhaimin_Iskandar_1.csv\",\n",
    "    \"twitter_data/Muhaimin_Iskandar_1.2_.csv\"\n",
    "]\n",
    "target_result = \"final_dataset/twitter_muhaimin_iskandar.csv\""
   ]
  },
  {
   "cell_type": "code",
   "execution_count": 17,
   "metadata": {},
   "outputs": [],
   "source": [
    "# Read dataset\n",
    "data_1 = pd.read_csv(path_dataset[0].replace(\"\\r\", \"/r\"), sep=\";\")\n",
    "data_1 = data_1.replace(\"\", np.nan)"
   ]
  },
  {
   "cell_type": "code",
   "execution_count": 18,
   "metadata": {},
   "outputs": [],
   "source": [
    "# Read dataset\n",
    "data_2 = pd.read_csv(path_dataset[1].replace(\"\\r\", \"/r\"), sep=\";\")\n",
    "data_2 = data_2.replace(\"\", np.nan)"
   ]
  },
  {
   "cell_type": "code",
   "execution_count": 19,
   "metadata": {},
   "outputs": [
    {
     "data": {
      "text/plain": [
       "((663, 12), (611, 12))"
      ]
     },
     "execution_count": 19,
     "metadata": {},
     "output_type": "execute_result"
    }
   ],
   "source": [
    "# Overview dataset\n",
    "data_1.shape, data_2.shape"
   ]
  },
  {
   "cell_type": "code",
   "execution_count": 20,
   "metadata": {},
   "outputs": [
    {
     "data": {
      "text/plain": [
       "created_at             0\n",
       "id_str                 0\n",
       "full_text              0\n",
       "quote_count            0\n",
       "reply_count            0\n",
       "retweet_count          0\n",
       "favorite_count         0\n",
       "lang                   0\n",
       "user_id_str            0\n",
       "conversation_id_str    0\n",
       "username               0\n",
       "tweet_url              0\n",
       "dtype: int64"
      ]
     },
     "execution_count": 20,
     "metadata": {},
     "output_type": "execute_result"
    }
   ],
   "source": [
    "# Overview dataset\n",
    "data_1.isna().sum()"
   ]
  },
  {
   "cell_type": "code",
   "execution_count": 21,
   "metadata": {},
   "outputs": [
    {
     "data": {
      "text/plain": [
       "created_at             0\n",
       "id_str                 0\n",
       "full_text              0\n",
       "quote_count            0\n",
       "reply_count            0\n",
       "retweet_count          0\n",
       "favorite_count         0\n",
       "lang                   0\n",
       "user_id_str            0\n",
       "conversation_id_str    0\n",
       "username               0\n",
       "tweet_url              0\n",
       "dtype: int64"
      ]
     },
     "execution_count": 21,
     "metadata": {},
     "output_type": "execute_result"
    }
   ],
   "source": [
    "# Overview dataset\n",
    "data_2.isna().sum()"
   ]
  },
  {
   "cell_type": "code",
   "execution_count": 22,
   "metadata": {},
   "outputs": [
    {
     "data": {
      "text/html": [
       "<div>\n",
       "<style scoped>\n",
       "    .dataframe tbody tr th:only-of-type {\n",
       "        vertical-align: middle;\n",
       "    }\n",
       "\n",
       "    .dataframe tbody tr th {\n",
       "        vertical-align: top;\n",
       "    }\n",
       "\n",
       "    .dataframe thead th {\n",
       "        text-align: right;\n",
       "    }\n",
       "</style>\n",
       "<table border=\"1\" class=\"dataframe\">\n",
       "  <thead>\n",
       "    <tr style=\"text-align: right;\">\n",
       "      <th></th>\n",
       "      <th>created_at</th>\n",
       "      <th>id_str</th>\n",
       "      <th>full_text</th>\n",
       "      <th>quote_count</th>\n",
       "      <th>reply_count</th>\n",
       "      <th>retweet_count</th>\n",
       "      <th>favorite_count</th>\n",
       "      <th>lang</th>\n",
       "      <th>user_id_str</th>\n",
       "      <th>conversation_id_str</th>\n",
       "      <th>username</th>\n",
       "      <th>tweet_url</th>\n",
       "    </tr>\n",
       "  </thead>\n",
       "  <tbody>\n",
       "    <tr>\n",
       "      <th>0</th>\n",
       "      <td>Wed Nov 29 23:54:22 +0000 2023</td>\n",
       "      <td>1730012354862354874</td>\n",
       "      <td>Persiapan konsolidasi Nasional AMIN @cakimiNOW...</td>\n",
       "      <td>0</td>\n",
       "      <td>0</td>\n",
       "      <td>0</td>\n",
       "      <td>0</td>\n",
       "      <td>in</td>\n",
       "      <td>1662770465344200706</td>\n",
       "      <td>1730012354862354874</td>\n",
       "      <td>kakinun2</td>\n",
       "      <td>https://twitter.com/kakinun2/status/1730012354...</td>\n",
       "    </tr>\n",
       "    <tr>\n",
       "      <th>1</th>\n",
       "      <td>Wed Nov 29 23:39:06 +0000 2023</td>\n",
       "      <td>1730008516260483332</td>\n",
       "      <td>Duet AMIN pede menghadapi debat Pilpres 2024 y...</td>\n",
       "      <td>1</td>\n",
       "      <td>1</td>\n",
       "      <td>3</td>\n",
       "      <td>16</td>\n",
       "      <td>in</td>\n",
       "      <td>759692754985242625</td>\n",
       "      <td>1730008516260483332</td>\n",
       "      <td>kumparan</td>\n",
       "      <td>https://twitter.com/kumparan/status/1730008516...</td>\n",
       "    </tr>\n",
       "    <tr>\n",
       "      <th>2</th>\n",
       "      <td>Wed Nov 29 22:57:14 +0000 2023</td>\n",
       "      <td>1729997976809202149</td>\n",
       "      <td>Yuk dukung terus AMIN dan doakan Indonesia seg...</td>\n",
       "      <td>0</td>\n",
       "      <td>0</td>\n",
       "      <td>0</td>\n",
       "      <td>0</td>\n",
       "      <td>in</td>\n",
       "      <td>16184521</td>\n",
       "      <td>1729997976809202149</td>\n",
       "      <td>f_nusantara</td>\n",
       "      <td>https://twitter.com/f_nusantara/status/1729997...</td>\n",
       "    </tr>\n",
       "    <tr>\n",
       "      <th>3</th>\n",
       "      <td>Wed Nov 29 22:22:36 +0000 2023</td>\n",
       "      <td>1729989264572858784</td>\n",
       "      <td>@DPP_PKB @cakimiNOW @aniesbaswedan Selalu kerj...</td>\n",
       "      <td>0</td>\n",
       "      <td>0</td>\n",
       "      <td>0</td>\n",
       "      <td>0</td>\n",
       "      <td>in</td>\n",
       "      <td>1602168753307148289</td>\n",
       "      <td>1729797180427223399</td>\n",
       "      <td>BakriSella</td>\n",
       "      <td>https://twitter.com/BakriSella/status/17299892...</td>\n",
       "    </tr>\n",
       "    <tr>\n",
       "      <th>4</th>\n",
       "      <td>Wed Nov 29 22:10:04 +0000 2023</td>\n",
       "      <td>1729986108984102927</td>\n",
       "      <td>Tim Nasional Pemenangan  calon presiden dan ca...</td>\n",
       "      <td>0</td>\n",
       "      <td>0</td>\n",
       "      <td>0</td>\n",
       "      <td>3</td>\n",
       "      <td>in</td>\n",
       "      <td>23343960</td>\n",
       "      <td>1729986108984102927</td>\n",
       "      <td>kompascom</td>\n",
       "      <td>https://twitter.com/kompascom/status/172998610...</td>\n",
       "    </tr>\n",
       "  </tbody>\n",
       "</table>\n",
       "</div>"
      ],
      "text/plain": [
       "                       created_at               id_str  \\\n",
       "0  Wed Nov 29 23:54:22 +0000 2023  1730012354862354874   \n",
       "1  Wed Nov 29 23:39:06 +0000 2023  1730008516260483332   \n",
       "2  Wed Nov 29 22:57:14 +0000 2023  1729997976809202149   \n",
       "3  Wed Nov 29 22:22:36 +0000 2023  1729989264572858784   \n",
       "4  Wed Nov 29 22:10:04 +0000 2023  1729986108984102927   \n",
       "\n",
       "                                           full_text  quote_count  \\\n",
       "0  Persiapan konsolidasi Nasional AMIN @cakimiNOW...            0   \n",
       "1  Duet AMIN pede menghadapi debat Pilpres 2024 y...            1   \n",
       "2  Yuk dukung terus AMIN dan doakan Indonesia seg...            0   \n",
       "3  @DPP_PKB @cakimiNOW @aniesbaswedan Selalu kerj...            0   \n",
       "4  Tim Nasional Pemenangan  calon presiden dan ca...            0   \n",
       "\n",
       "   reply_count  retweet_count  favorite_count lang          user_id_str  \\\n",
       "0            0              0               0   in  1662770465344200706   \n",
       "1            1              3              16   in   759692754985242625   \n",
       "2            0              0               0   in             16184521   \n",
       "3            0              0               0   in  1602168753307148289   \n",
       "4            0              0               3   in             23343960   \n",
       "\n",
       "   conversation_id_str     username  \\\n",
       "0  1730012354862354874     kakinun2   \n",
       "1  1730008516260483332     kumparan   \n",
       "2  1729997976809202149  f_nusantara   \n",
       "3  1729797180427223399   BakriSella   \n",
       "4  1729986108984102927    kompascom   \n",
       "\n",
       "                                           tweet_url  \n",
       "0  https://twitter.com/kakinun2/status/1730012354...  \n",
       "1  https://twitter.com/kumparan/status/1730008516...  \n",
       "2  https://twitter.com/f_nusantara/status/1729997...  \n",
       "3  https://twitter.com/BakriSella/status/17299892...  \n",
       "4  https://twitter.com/kompascom/status/172998610...  "
      ]
     },
     "execution_count": 22,
     "metadata": {},
     "output_type": "execute_result"
    }
   ],
   "source": [
    "# Overview dataset\n",
    "data_1.head()"
   ]
  },
  {
   "cell_type": "code",
   "execution_count": 23,
   "metadata": {},
   "outputs": [
    {
     "data": {
      "text/html": [
       "<div>\n",
       "<style scoped>\n",
       "    .dataframe tbody tr th:only-of-type {\n",
       "        vertical-align: middle;\n",
       "    }\n",
       "\n",
       "    .dataframe tbody tr th {\n",
       "        vertical-align: top;\n",
       "    }\n",
       "\n",
       "    .dataframe thead th {\n",
       "        text-align: right;\n",
       "    }\n",
       "</style>\n",
       "<table border=\"1\" class=\"dataframe\">\n",
       "  <thead>\n",
       "    <tr style=\"text-align: right;\">\n",
       "      <th></th>\n",
       "      <th>created_at</th>\n",
       "      <th>id_str</th>\n",
       "      <th>full_text</th>\n",
       "      <th>quote_count</th>\n",
       "      <th>reply_count</th>\n",
       "      <th>retweet_count</th>\n",
       "      <th>favorite_count</th>\n",
       "      <th>lang</th>\n",
       "      <th>user_id_str</th>\n",
       "      <th>conversation_id_str</th>\n",
       "      <th>username</th>\n",
       "      <th>tweet_url</th>\n",
       "    </tr>\n",
       "  </thead>\n",
       "  <tbody>\n",
       "    <tr>\n",
       "      <th>0</th>\n",
       "      <td>Wed Nov 29 23:54:22 +0000 2023</td>\n",
       "      <td>1730012354862354874</td>\n",
       "      <td>Persiapan konsolidasi Nasional AMIN @cakimiNOW...</td>\n",
       "      <td>0</td>\n",
       "      <td>0</td>\n",
       "      <td>0</td>\n",
       "      <td>0</td>\n",
       "      <td>in</td>\n",
       "      <td>1662770465344200706</td>\n",
       "      <td>1730012354862354874</td>\n",
       "      <td>kakinun2</td>\n",
       "      <td>https://twitter.com/kakinun2/status/1730012354...</td>\n",
       "    </tr>\n",
       "    <tr>\n",
       "      <th>1</th>\n",
       "      <td>Wed Nov 29 23:39:06 +0000 2023</td>\n",
       "      <td>1730008516260483332</td>\n",
       "      <td>Duet AMIN pede menghadapi debat Pilpres 2024 y...</td>\n",
       "      <td>1</td>\n",
       "      <td>1</td>\n",
       "      <td>3</td>\n",
       "      <td>16</td>\n",
       "      <td>in</td>\n",
       "      <td>759692754985242625</td>\n",
       "      <td>1730008516260483332</td>\n",
       "      <td>kumparan</td>\n",
       "      <td>https://twitter.com/kumparan/status/1730008516...</td>\n",
       "    </tr>\n",
       "    <tr>\n",
       "      <th>2</th>\n",
       "      <td>Wed Nov 29 22:57:14 +0000 2023</td>\n",
       "      <td>1729997976809202149</td>\n",
       "      <td>Yuk dukung terus AMIN dan doakan Indonesia seg...</td>\n",
       "      <td>0</td>\n",
       "      <td>0</td>\n",
       "      <td>0</td>\n",
       "      <td>0</td>\n",
       "      <td>in</td>\n",
       "      <td>16184521</td>\n",
       "      <td>1729997976809202149</td>\n",
       "      <td>f_nusantara</td>\n",
       "      <td>https://twitter.com/f_nusantara/status/1729997...</td>\n",
       "    </tr>\n",
       "    <tr>\n",
       "      <th>3</th>\n",
       "      <td>Wed Nov 29 22:22:36 +0000 2023</td>\n",
       "      <td>1729989264572858784</td>\n",
       "      <td>@DPP_PKB @cakimiNOW @aniesbaswedan Selalu kerj...</td>\n",
       "      <td>0</td>\n",
       "      <td>0</td>\n",
       "      <td>0</td>\n",
       "      <td>0</td>\n",
       "      <td>in</td>\n",
       "      <td>1602168753307148289</td>\n",
       "      <td>1729797180427223399</td>\n",
       "      <td>BakriSella</td>\n",
       "      <td>https://twitter.com/BakriSella/status/17299892...</td>\n",
       "    </tr>\n",
       "    <tr>\n",
       "      <th>4</th>\n",
       "      <td>Wed Nov 29 22:10:04 +0000 2023</td>\n",
       "      <td>1729986108984102927</td>\n",
       "      <td>Tim Nasional Pemenangan  calon presiden dan ca...</td>\n",
       "      <td>0</td>\n",
       "      <td>0</td>\n",
       "      <td>0</td>\n",
       "      <td>3</td>\n",
       "      <td>in</td>\n",
       "      <td>23343960</td>\n",
       "      <td>1729986108984102927</td>\n",
       "      <td>kompascom</td>\n",
       "      <td>https://twitter.com/kompascom/status/172998610...</td>\n",
       "    </tr>\n",
       "  </tbody>\n",
       "</table>\n",
       "</div>"
      ],
      "text/plain": [
       "                       created_at               id_str  \\\n",
       "0  Wed Nov 29 23:54:22 +0000 2023  1730012354862354874   \n",
       "1  Wed Nov 29 23:39:06 +0000 2023  1730008516260483332   \n",
       "2  Wed Nov 29 22:57:14 +0000 2023  1729997976809202149   \n",
       "3  Wed Nov 29 22:22:36 +0000 2023  1729989264572858784   \n",
       "4  Wed Nov 29 22:10:04 +0000 2023  1729986108984102927   \n",
       "\n",
       "                                           full_text  quote_count  \\\n",
       "0  Persiapan konsolidasi Nasional AMIN @cakimiNOW...            0   \n",
       "1  Duet AMIN pede menghadapi debat Pilpres 2024 y...            1   \n",
       "2  Yuk dukung terus AMIN dan doakan Indonesia seg...            0   \n",
       "3  @DPP_PKB @cakimiNOW @aniesbaswedan Selalu kerj...            0   \n",
       "4  Tim Nasional Pemenangan  calon presiden dan ca...            0   \n",
       "\n",
       "   reply_count  retweet_count  favorite_count lang          user_id_str  \\\n",
       "0            0              0               0   in  1662770465344200706   \n",
       "1            1              3              16   in   759692754985242625   \n",
       "2            0              0               0   in             16184521   \n",
       "3            0              0               0   in  1602168753307148289   \n",
       "4            0              0               3   in             23343960   \n",
       "\n",
       "   conversation_id_str     username  \\\n",
       "0  1730012354862354874     kakinun2   \n",
       "1  1730008516260483332     kumparan   \n",
       "2  1729997976809202149  f_nusantara   \n",
       "3  1729797180427223399   BakriSella   \n",
       "4  1729986108984102927    kompascom   \n",
       "\n",
       "                                           tweet_url  \n",
       "0  https://twitter.com/kakinun2/status/1730012354...  \n",
       "1  https://twitter.com/kumparan/status/1730008516...  \n",
       "2  https://twitter.com/f_nusantara/status/1729997...  \n",
       "3  https://twitter.com/BakriSella/status/17299892...  \n",
       "4  https://twitter.com/kompascom/status/172998610...  "
      ]
     },
     "execution_count": 23,
     "metadata": {},
     "output_type": "execute_result"
    }
   ],
   "source": [
    "# Overview dataset\n",
    "data_2.head()"
   ]
  },
  {
   "cell_type": "code",
   "execution_count": 24,
   "metadata": {},
   "outputs": [
    {
     "data": {
      "text/plain": [
       "(663, 12)"
      ]
     },
     "execution_count": 24,
     "metadata": {},
     "output_type": "execute_result"
    }
   ],
   "source": [
    "# Concatenate dataset\n",
    "data = pd.concat([data_1, data_2]).drop_duplicates(subset = ['tweet_url']).reset_index(drop = True)\n",
    "\n",
    "# Check dimension\n",
    "data.shape"
   ]
  },
  {
   "cell_type": "code",
   "execution_count": 25,
   "metadata": {},
   "outputs": [],
   "source": [
    "# Save Result\n",
    "data.to_csv(target_result, index=False)"
   ]
  },
  {
   "cell_type": "markdown",
   "metadata": {},
   "source": [
    "### Ganjar Pranowo"
   ]
  },
  {
   "cell_type": "code",
   "execution_count": 26,
   "metadata": {},
   "outputs": [],
   "source": [
    "# Define path dataset\n",
    "path_dataset = [\n",
    "    \"twitter_data/Ganjar_Pranowo_1.2_.csv\"\n",
    "]\n",
    "target_result = \"final_dataset/twitter_ganjar_pranowo.csv\""
   ]
  },
  {
   "cell_type": "code",
   "execution_count": 27,
   "metadata": {},
   "outputs": [],
   "source": [
    "# Read dataset\n",
    "data_1 = pd.read_csv(path_dataset[0].replace(\"\\r\", \"/r\"), sep=\";\")\n",
    "data_1 = data_1.replace(\"\", np.nan)"
   ]
  },
  {
   "cell_type": "code",
   "execution_count": 28,
   "metadata": {},
   "outputs": [],
   "source": [
    "# # Read dataset\n",
    "# data_2 = pd.read_csv(path_dataset[1].replace(\"\\r\", \"/r\"), sep=\";\")\n",
    "# data_2 = data_2.replace(\"\", np.nan)"
   ]
  },
  {
   "cell_type": "code",
   "execution_count": 29,
   "metadata": {},
   "outputs": [
    {
     "data": {
      "text/plain": [
       "(1256, 12)"
      ]
     },
     "execution_count": 29,
     "metadata": {},
     "output_type": "execute_result"
    }
   ],
   "source": [
    "# Overview dataset\n",
    "data_1.shape#, data_2.shape"
   ]
  },
  {
   "cell_type": "code",
   "execution_count": 30,
   "metadata": {},
   "outputs": [
    {
     "data": {
      "text/plain": [
       "created_at             0\n",
       "id_str                 0\n",
       "full_text              0\n",
       "quote_count            0\n",
       "reply_count            0\n",
       "retweet_count          0\n",
       "favorite_count         0\n",
       "lang                   0\n",
       "user_id_str            0\n",
       "conversation_id_str    0\n",
       "username               0\n",
       "tweet_url              0\n",
       "dtype: int64"
      ]
     },
     "execution_count": 30,
     "metadata": {},
     "output_type": "execute_result"
    }
   ],
   "source": [
    "# Overview dataset\n",
    "data_1.isna().sum()"
   ]
  },
  {
   "cell_type": "code",
   "execution_count": 31,
   "metadata": {},
   "outputs": [],
   "source": [
    "# # Overview dataset\n",
    "# data_2.isna().sum()"
   ]
  },
  {
   "cell_type": "code",
   "execution_count": 32,
   "metadata": {},
   "outputs": [
    {
     "data": {
      "text/html": [
       "<div>\n",
       "<style scoped>\n",
       "    .dataframe tbody tr th:only-of-type {\n",
       "        vertical-align: middle;\n",
       "    }\n",
       "\n",
       "    .dataframe tbody tr th {\n",
       "        vertical-align: top;\n",
       "    }\n",
       "\n",
       "    .dataframe thead th {\n",
       "        text-align: right;\n",
       "    }\n",
       "</style>\n",
       "<table border=\"1\" class=\"dataframe\">\n",
       "  <thead>\n",
       "    <tr style=\"text-align: right;\">\n",
       "      <th></th>\n",
       "      <th>created_at</th>\n",
       "      <th>id_str</th>\n",
       "      <th>full_text</th>\n",
       "      <th>quote_count</th>\n",
       "      <th>reply_count</th>\n",
       "      <th>retweet_count</th>\n",
       "      <th>favorite_count</th>\n",
       "      <th>lang</th>\n",
       "      <th>user_id_str</th>\n",
       "      <th>conversation_id_str</th>\n",
       "      <th>username</th>\n",
       "      <th>tweet_url</th>\n",
       "    </tr>\n",
       "  </thead>\n",
       "  <tbody>\n",
       "    <tr>\n",
       "      <th>0</th>\n",
       "      <td>Wed Nov 29 23:59:57 +0000 2023</td>\n",
       "      <td>1730013761703153770</td>\n",
       "      <td>@ganjarpranowo Pak Ganjar selalu memikirkan ke...</td>\n",
       "      <td>0</td>\n",
       "      <td>0</td>\n",
       "      <td>0</td>\n",
       "      <td>0</td>\n",
       "      <td>in</td>\n",
       "      <td>1706239233822998528</td>\n",
       "      <td>1729694492675182824</td>\n",
       "      <td>exjplore</td>\n",
       "      <td>https://twitter.com/exjplore/status/1730013761...</td>\n",
       "    </tr>\n",
       "    <tr>\n",
       "      <th>1</th>\n",
       "      <td>Wed Nov 29 23:59:51 +0000 2023</td>\n",
       "      <td>1730013735291691274</td>\n",
       "      <td>@ganjarpranowo @mohmahfudmd Sambutan yang sang...</td>\n",
       "      <td>0</td>\n",
       "      <td>0</td>\n",
       "      <td>0</td>\n",
       "      <td>0</td>\n",
       "      <td>in</td>\n",
       "      <td>1440653524094767106</td>\n",
       "      <td>1729814315337945468</td>\n",
       "      <td>Siyueee890</td>\n",
       "      <td>https://twitter.com/Siyueee890/status/17300137...</td>\n",
       "    </tr>\n",
       "    <tr>\n",
       "      <th>2</th>\n",
       "      <td>Wed Nov 29 23:59:50 +0000 2023</td>\n",
       "      <td>1730013730271064150</td>\n",
       "      <td>@ganjarpranowo Mari kita sama-sama wujudkan In...</td>\n",
       "      <td>0</td>\n",
       "      <td>0</td>\n",
       "      <td>0</td>\n",
       "      <td>0</td>\n",
       "      <td>in</td>\n",
       "      <td>1632607703255371776</td>\n",
       "      <td>1729694492675182824</td>\n",
       "      <td>Nengchu77</td>\n",
       "      <td>https://twitter.com/Nengchu77/status/173001373...</td>\n",
       "    </tr>\n",
       "    <tr>\n",
       "      <th>3</th>\n",
       "      <td>Wed Nov 29 23:59:42 +0000 2023</td>\n",
       "      <td>1730013700533444776</td>\n",
       "      <td>@ganjarpranowo @mohmahfudmd Keren liat semanga...</td>\n",
       "      <td>0</td>\n",
       "      <td>0</td>\n",
       "      <td>0</td>\n",
       "      <td>0</td>\n",
       "      <td>in</td>\n",
       "      <td>1705830967141875712</td>\n",
       "      <td>1729814315337945468</td>\n",
       "      <td>IrawanJafi3105</td>\n",
       "      <td>https://twitter.com/IrawanJafi3105/status/1730...</td>\n",
       "    </tr>\n",
       "    <tr>\n",
       "      <th>4</th>\n",
       "      <td>Wed Nov 29 23:59:39 +0000 2023</td>\n",
       "      <td>1730013686360924478</td>\n",
       "      <td>@StefanAntonio__ Ini loh pak @ganjarpranowo pa...</td>\n",
       "      <td>0</td>\n",
       "      <td>0</td>\n",
       "      <td>0</td>\n",
       "      <td>0</td>\n",
       "      <td>in</td>\n",
       "      <td>1537456169769349121</td>\n",
       "      <td>1729654241143267459</td>\n",
       "      <td>JoseMou82</td>\n",
       "      <td>https://twitter.com/JoseMou82/status/173001368...</td>\n",
       "    </tr>\n",
       "  </tbody>\n",
       "</table>\n",
       "</div>"
      ],
      "text/plain": [
       "                       created_at               id_str  \\\n",
       "0  Wed Nov 29 23:59:57 +0000 2023  1730013761703153770   \n",
       "1  Wed Nov 29 23:59:51 +0000 2023  1730013735291691274   \n",
       "2  Wed Nov 29 23:59:50 +0000 2023  1730013730271064150   \n",
       "3  Wed Nov 29 23:59:42 +0000 2023  1730013700533444776   \n",
       "4  Wed Nov 29 23:59:39 +0000 2023  1730013686360924478   \n",
       "\n",
       "                                           full_text  quote_count  \\\n",
       "0  @ganjarpranowo Pak Ganjar selalu memikirkan ke...            0   \n",
       "1  @ganjarpranowo @mohmahfudmd Sambutan yang sang...            0   \n",
       "2  @ganjarpranowo Mari kita sama-sama wujudkan In...            0   \n",
       "3  @ganjarpranowo @mohmahfudmd Keren liat semanga...            0   \n",
       "4  @StefanAntonio__ Ini loh pak @ganjarpranowo pa...            0   \n",
       "\n",
       "   reply_count  retweet_count  favorite_count lang          user_id_str  \\\n",
       "0            0              0               0   in  1706239233822998528   \n",
       "1            0              0               0   in  1440653524094767106   \n",
       "2            0              0               0   in  1632607703255371776   \n",
       "3            0              0               0   in  1705830967141875712   \n",
       "4            0              0               0   in  1537456169769349121   \n",
       "\n",
       "   conversation_id_str        username  \\\n",
       "0  1729694492675182824        exjplore   \n",
       "1  1729814315337945468      Siyueee890   \n",
       "2  1729694492675182824       Nengchu77   \n",
       "3  1729814315337945468  IrawanJafi3105   \n",
       "4  1729654241143267459       JoseMou82   \n",
       "\n",
       "                                           tweet_url  \n",
       "0  https://twitter.com/exjplore/status/1730013761...  \n",
       "1  https://twitter.com/Siyueee890/status/17300137...  \n",
       "2  https://twitter.com/Nengchu77/status/173001373...  \n",
       "3  https://twitter.com/IrawanJafi3105/status/1730...  \n",
       "4  https://twitter.com/JoseMou82/status/173001368...  "
      ]
     },
     "execution_count": 32,
     "metadata": {},
     "output_type": "execute_result"
    }
   ],
   "source": [
    "# Overview dataset\n",
    "data_1.head()"
   ]
  },
  {
   "cell_type": "code",
   "execution_count": 33,
   "metadata": {},
   "outputs": [],
   "source": [
    "# # Overview dataset\n",
    "# data_2.head()"
   ]
  },
  {
   "cell_type": "code",
   "execution_count": 34,
   "metadata": {},
   "outputs": [
    {
     "data": {
      "text/plain": [
       "(1256, 12)"
      ]
     },
     "execution_count": 34,
     "metadata": {},
     "output_type": "execute_result"
    }
   ],
   "source": [
    "# Concatenate dataset\n",
    "data = data_1.drop_duplicates(subset = ['tweet_url']).reset_index(drop = True)\n",
    "\n",
    "# Check dimension\n",
    "data.shape"
   ]
  },
  {
   "cell_type": "code",
   "execution_count": 35,
   "metadata": {},
   "outputs": [],
   "source": [
    "# Save Result\n",
    "data.to_csv(target_result, index=False)"
   ]
  },
  {
   "cell_type": "markdown",
   "metadata": {},
   "source": [
    "### Mahfud MD"
   ]
  },
  {
   "cell_type": "code",
   "execution_count": 36,
   "metadata": {},
   "outputs": [],
   "source": [
    "# Define path dataset\n",
    "path_dataset = [\n",
    "    \"twitter_data/Mahfud_MD_1.csv\", \n",
    "    \"twitter_data/Mahfud_MD_1.2_.csv\"\n",
    "]\n",
    "target_result = \"final_dataset/twitter_mahfud_md.csv\""
   ]
  },
  {
   "cell_type": "code",
   "execution_count": 37,
   "metadata": {},
   "outputs": [],
   "source": [
    "# Read dataset\n",
    "data_1 = pd.read_csv(path_dataset[0].replace(\"\\r\", \"/r\"), sep=\";\")\n",
    "data_1 = data_1.replace(\"\", np.nan)"
   ]
  },
  {
   "cell_type": "code",
   "execution_count": 38,
   "metadata": {},
   "outputs": [],
   "source": [
    "# Read dataset\n",
    "data_2 = pd.read_csv(path_dataset[1].replace(\"\\r\", \"/r\"), sep=\";\")\n",
    "data_2 = data_2.replace(\"\", np.nan)"
   ]
  },
  {
   "cell_type": "code",
   "execution_count": 39,
   "metadata": {},
   "outputs": [
    {
     "data": {
      "text/plain": [
       "((269, 12), (188, 12))"
      ]
     },
     "execution_count": 39,
     "metadata": {},
     "output_type": "execute_result"
    }
   ],
   "source": [
    "# Overview dataset\n",
    "data_1.shape, data_2.shape"
   ]
  },
  {
   "cell_type": "code",
   "execution_count": 40,
   "metadata": {},
   "outputs": [
    {
     "data": {
      "text/plain": [
       "created_at             0\n",
       "id_str                 0\n",
       "full_text              0\n",
       "quote_count            0\n",
       "reply_count            0\n",
       "retweet_count          0\n",
       "favorite_count         0\n",
       "lang                   0\n",
       "user_id_str            0\n",
       "conversation_id_str    0\n",
       "username               0\n",
       "tweet_url              0\n",
       "dtype: int64"
      ]
     },
     "execution_count": 40,
     "metadata": {},
     "output_type": "execute_result"
    }
   ],
   "source": [
    "# Overview dataset\n",
    "data_1.isna().sum()"
   ]
  },
  {
   "cell_type": "code",
   "execution_count": 41,
   "metadata": {},
   "outputs": [
    {
     "data": {
      "text/plain": [
       "created_at             0\n",
       "id_str                 0\n",
       "full_text              0\n",
       "quote_count            0\n",
       "reply_count            0\n",
       "retweet_count          0\n",
       "favorite_count         0\n",
       "lang                   0\n",
       "user_id_str            0\n",
       "conversation_id_str    0\n",
       "username               0\n",
       "tweet_url              0\n",
       "dtype: int64"
      ]
     },
     "execution_count": 41,
     "metadata": {},
     "output_type": "execute_result"
    }
   ],
   "source": [
    "# Overview dataset\n",
    "data_2.isna().sum()"
   ]
  },
  {
   "cell_type": "code",
   "execution_count": 42,
   "metadata": {},
   "outputs": [
    {
     "data": {
      "text/html": [
       "<div>\n",
       "<style scoped>\n",
       "    .dataframe tbody tr th:only-of-type {\n",
       "        vertical-align: middle;\n",
       "    }\n",
       "\n",
       "    .dataframe tbody tr th {\n",
       "        vertical-align: top;\n",
       "    }\n",
       "\n",
       "    .dataframe thead th {\n",
       "        text-align: right;\n",
       "    }\n",
       "</style>\n",
       "<table border=\"1\" class=\"dataframe\">\n",
       "  <thead>\n",
       "    <tr style=\"text-align: right;\">\n",
       "      <th></th>\n",
       "      <th>created_at</th>\n",
       "      <th>id_str</th>\n",
       "      <th>full_text</th>\n",
       "      <th>quote_count</th>\n",
       "      <th>reply_count</th>\n",
       "      <th>retweet_count</th>\n",
       "      <th>favorite_count</th>\n",
       "      <th>lang</th>\n",
       "      <th>user_id_str</th>\n",
       "      <th>conversation_id_str</th>\n",
       "      <th>username</th>\n",
       "      <th>tweet_url</th>\n",
       "    </tr>\n",
       "  </thead>\n",
       "  <tbody>\n",
       "    <tr>\n",
       "      <th>0</th>\n",
       "      <td>Wed Nov 29 23:59:57 +0000 2023</td>\n",
       "      <td>1730013760507810263</td>\n",
       "      <td>Jangan khawatir, gabung pun pemenangnya tetap ...</td>\n",
       "      <td>0</td>\n",
       "      <td>0</td>\n",
       "      <td>0</td>\n",
       "      <td>2</td>\n",
       "      <td>in</td>\n",
       "      <td>1516257213848776706</td>\n",
       "      <td>1730013760507810263</td>\n",
       "      <td>Harsianto8</td>\n",
       "      <td>https://twitter.com/Harsianto8/status/17300137...</td>\n",
       "    </tr>\n",
       "    <tr>\n",
       "      <th>1</th>\n",
       "      <td>Wed Nov 29 23:50:22 +0000 2023</td>\n",
       "      <td>1730011350838243639</td>\n",
       "      <td>@kompascom Sekedar mengingatkan, Mahfud MD ser...</td>\n",
       "      <td>0</td>\n",
       "      <td>0</td>\n",
       "      <td>0</td>\n",
       "      <td>1</td>\n",
       "      <td>in</td>\n",
       "      <td>1036621091161010177</td>\n",
       "      <td>1729859877177356639</td>\n",
       "      <td>D002832</td>\n",
       "      <td>https://twitter.com/D002832/status/17300113508...</td>\n",
       "    </tr>\n",
       "    <tr>\n",
       "      <th>2</th>\n",
       "      <td>Wed Nov 29 23:45:25 +0000 2023</td>\n",
       "      <td>1730010101992620519</td>\n",
       "      <td>@Gus_Raharjo Aku sih pilih Ganjar Pranowo dan ...</td>\n",
       "      <td>0</td>\n",
       "      <td>0</td>\n",
       "      <td>0</td>\n",
       "      <td>0</td>\n",
       "      <td>in</td>\n",
       "      <td>1677867913360084993</td>\n",
       "      <td>1729718931383058701</td>\n",
       "      <td>romelyjuju</td>\n",
       "      <td>https://twitter.com/romelyjuju/status/17300101...</td>\n",
       "    </tr>\n",
       "    <tr>\n",
       "      <th>3</th>\n",
       "      <td>Wed Nov 29 23:42:40 +0000 2023</td>\n",
       "      <td>1730009413262733737</td>\n",
       "      <td>@KATADATAcoid semangat pak Ganjar Pranowo dan ...</td>\n",
       "      <td>0</td>\n",
       "      <td>0</td>\n",
       "      <td>0</td>\n",
       "      <td>0</td>\n",
       "      <td>in</td>\n",
       "      <td>1687784305769189376</td>\n",
       "      <td>1729523942015246628</td>\n",
       "      <td>ERambawa67114</td>\n",
       "      <td>https://twitter.com/ERambawa67114/status/17300...</td>\n",
       "    </tr>\n",
       "    <tr>\n",
       "      <th>4</th>\n",
       "      <td>Wed Nov 29 23:40:13 +0000 2023</td>\n",
       "      <td>1730008796326723923</td>\n",
       "      <td>@TeddGus Terserah Lo aja tedd. Buat gw ga ngar...</td>\n",
       "      <td>0</td>\n",
       "      <td>0</td>\n",
       "      <td>0</td>\n",
       "      <td>0</td>\n",
       "      <td>in</td>\n",
       "      <td>340619855</td>\n",
       "      <td>1729338304095834597</td>\n",
       "      <td>sk_surdi</td>\n",
       "      <td>https://twitter.com/sk_surdi/status/1730008796...</td>\n",
       "    </tr>\n",
       "  </tbody>\n",
       "</table>\n",
       "</div>"
      ],
      "text/plain": [
       "                       created_at               id_str  \\\n",
       "0  Wed Nov 29 23:59:57 +0000 2023  1730013760507810263   \n",
       "1  Wed Nov 29 23:50:22 +0000 2023  1730011350838243639   \n",
       "2  Wed Nov 29 23:45:25 +0000 2023  1730010101992620519   \n",
       "3  Wed Nov 29 23:42:40 +0000 2023  1730009413262733737   \n",
       "4  Wed Nov 29 23:40:13 +0000 2023  1730008796326723923   \n",
       "\n",
       "                                           full_text  quote_count  \\\n",
       "0  Jangan khawatir, gabung pun pemenangnya tetap ...            0   \n",
       "1  @kompascom Sekedar mengingatkan, Mahfud MD ser...            0   \n",
       "2  @Gus_Raharjo Aku sih pilih Ganjar Pranowo dan ...            0   \n",
       "3  @KATADATAcoid semangat pak Ganjar Pranowo dan ...            0   \n",
       "4  @TeddGus Terserah Lo aja tedd. Buat gw ga ngar...            0   \n",
       "\n",
       "   reply_count  retweet_count  favorite_count lang          user_id_str  \\\n",
       "0            0              0               2   in  1516257213848776706   \n",
       "1            0              0               1   in  1036621091161010177   \n",
       "2            0              0               0   in  1677867913360084993   \n",
       "3            0              0               0   in  1687784305769189376   \n",
       "4            0              0               0   in            340619855   \n",
       "\n",
       "   conversation_id_str       username  \\\n",
       "0  1730013760507810263     Harsianto8   \n",
       "1  1729859877177356639        D002832   \n",
       "2  1729718931383058701     romelyjuju   \n",
       "3  1729523942015246628  ERambawa67114   \n",
       "4  1729338304095834597       sk_surdi   \n",
       "\n",
       "                                           tweet_url  \n",
       "0  https://twitter.com/Harsianto8/status/17300137...  \n",
       "1  https://twitter.com/D002832/status/17300113508...  \n",
       "2  https://twitter.com/romelyjuju/status/17300101...  \n",
       "3  https://twitter.com/ERambawa67114/status/17300...  \n",
       "4  https://twitter.com/sk_surdi/status/1730008796...  "
      ]
     },
     "execution_count": 42,
     "metadata": {},
     "output_type": "execute_result"
    }
   ],
   "source": [
    "# Overview dataset\n",
    "data_1.head()"
   ]
  },
  {
   "cell_type": "code",
   "execution_count": 43,
   "metadata": {},
   "outputs": [
    {
     "data": {
      "text/html": [
       "<div>\n",
       "<style scoped>\n",
       "    .dataframe tbody tr th:only-of-type {\n",
       "        vertical-align: middle;\n",
       "    }\n",
       "\n",
       "    .dataframe tbody tr th {\n",
       "        vertical-align: top;\n",
       "    }\n",
       "\n",
       "    .dataframe thead th {\n",
       "        text-align: right;\n",
       "    }\n",
       "</style>\n",
       "<table border=\"1\" class=\"dataframe\">\n",
       "  <thead>\n",
       "    <tr style=\"text-align: right;\">\n",
       "      <th></th>\n",
       "      <th>created_at</th>\n",
       "      <th>id_str</th>\n",
       "      <th>full_text</th>\n",
       "      <th>quote_count</th>\n",
       "      <th>reply_count</th>\n",
       "      <th>retweet_count</th>\n",
       "      <th>favorite_count</th>\n",
       "      <th>lang</th>\n",
       "      <th>user_id_str</th>\n",
       "      <th>conversation_id_str</th>\n",
       "      <th>username</th>\n",
       "      <th>tweet_url</th>\n",
       "    </tr>\n",
       "  </thead>\n",
       "  <tbody>\n",
       "    <tr>\n",
       "      <th>0</th>\n",
       "      <td>Wed Nov 29 23:59:57 +0000 2023</td>\n",
       "      <td>1730013760507810263</td>\n",
       "      <td>Jangan khawatir, gabung pun pemenangnya tetap ...</td>\n",
       "      <td>0</td>\n",
       "      <td>0</td>\n",
       "      <td>0</td>\n",
       "      <td>2</td>\n",
       "      <td>in</td>\n",
       "      <td>1516257213848776706</td>\n",
       "      <td>1730013760507810263</td>\n",
       "      <td>Harsianto8</td>\n",
       "      <td>https://twitter.com/Harsianto8/status/17300137...</td>\n",
       "    </tr>\n",
       "    <tr>\n",
       "      <th>1</th>\n",
       "      <td>Wed Nov 29 23:50:22 +0000 2023</td>\n",
       "      <td>1730011350838243639</td>\n",
       "      <td>@kompascom Sekedar mengingatkan, Mahfud MD ser...</td>\n",
       "      <td>0</td>\n",
       "      <td>0</td>\n",
       "      <td>0</td>\n",
       "      <td>1</td>\n",
       "      <td>in</td>\n",
       "      <td>1036621091161010177</td>\n",
       "      <td>1729859877177356639</td>\n",
       "      <td>D002832</td>\n",
       "      <td>https://twitter.com/D002832/status/17300113508...</td>\n",
       "    </tr>\n",
       "    <tr>\n",
       "      <th>2</th>\n",
       "      <td>Wed Nov 29 23:47:01 +0000 2023</td>\n",
       "      <td>1730010505094554022</td>\n",
       "      <td>@Paramitha234 @mohmahfudmd @ganjarpranowo Pasa...</td>\n",
       "      <td>0</td>\n",
       "      <td>0</td>\n",
       "      <td>1</td>\n",
       "      <td>2</td>\n",
       "      <td>in</td>\n",
       "      <td>1466806927401242626</td>\n",
       "      <td>1729889302379905142</td>\n",
       "      <td>FutraHr</td>\n",
       "      <td>https://twitter.com/FutraHr/status/17300105050...</td>\n",
       "    </tr>\n",
       "    <tr>\n",
       "      <th>3</th>\n",
       "      <td>Wed Nov 29 23:45:25 +0000 2023</td>\n",
       "      <td>1730010101992620519</td>\n",
       "      <td>@Gus_Raharjo Aku sih pilih Ganjar Pranowo dan ...</td>\n",
       "      <td>0</td>\n",
       "      <td>0</td>\n",
       "      <td>0</td>\n",
       "      <td>0</td>\n",
       "      <td>in</td>\n",
       "      <td>1677867913360084993</td>\n",
       "      <td>1729718931383058701</td>\n",
       "      <td>romelyjuju</td>\n",
       "      <td>https://twitter.com/romelyjuju/status/17300101...</td>\n",
       "    </tr>\n",
       "    <tr>\n",
       "      <th>4</th>\n",
       "      <td>Wed Nov 29 23:42:40 +0000 2023</td>\n",
       "      <td>1730009413262733737</td>\n",
       "      <td>@KATADATAcoid semangat pak Ganjar Pranowo dan ...</td>\n",
       "      <td>0</td>\n",
       "      <td>0</td>\n",
       "      <td>0</td>\n",
       "      <td>0</td>\n",
       "      <td>in</td>\n",
       "      <td>1687784305769189376</td>\n",
       "      <td>1729523942015246628</td>\n",
       "      <td>ERambawa67114</td>\n",
       "      <td>https://twitter.com/ERambawa67114/status/17300...</td>\n",
       "    </tr>\n",
       "  </tbody>\n",
       "</table>\n",
       "</div>"
      ],
      "text/plain": [
       "                       created_at               id_str  \\\n",
       "0  Wed Nov 29 23:59:57 +0000 2023  1730013760507810263   \n",
       "1  Wed Nov 29 23:50:22 +0000 2023  1730011350838243639   \n",
       "2  Wed Nov 29 23:47:01 +0000 2023  1730010505094554022   \n",
       "3  Wed Nov 29 23:45:25 +0000 2023  1730010101992620519   \n",
       "4  Wed Nov 29 23:42:40 +0000 2023  1730009413262733737   \n",
       "\n",
       "                                           full_text  quote_count  \\\n",
       "0  Jangan khawatir, gabung pun pemenangnya tetap ...            0   \n",
       "1  @kompascom Sekedar mengingatkan, Mahfud MD ser...            0   \n",
       "2  @Paramitha234 @mohmahfudmd @ganjarpranowo Pasa...            0   \n",
       "3  @Gus_Raharjo Aku sih pilih Ganjar Pranowo dan ...            0   \n",
       "4  @KATADATAcoid semangat pak Ganjar Pranowo dan ...            0   \n",
       "\n",
       "   reply_count  retweet_count  favorite_count lang          user_id_str  \\\n",
       "0            0              0               2   in  1516257213848776706   \n",
       "1            0              0               1   in  1036621091161010177   \n",
       "2            0              1               2   in  1466806927401242626   \n",
       "3            0              0               0   in  1677867913360084993   \n",
       "4            0              0               0   in  1687784305769189376   \n",
       "\n",
       "   conversation_id_str       username  \\\n",
       "0  1730013760507810263     Harsianto8   \n",
       "1  1729859877177356639        D002832   \n",
       "2  1729889302379905142        FutraHr   \n",
       "3  1729718931383058701     romelyjuju   \n",
       "4  1729523942015246628  ERambawa67114   \n",
       "\n",
       "                                           tweet_url  \n",
       "0  https://twitter.com/Harsianto8/status/17300137...  \n",
       "1  https://twitter.com/D002832/status/17300113508...  \n",
       "2  https://twitter.com/FutraHr/status/17300105050...  \n",
       "3  https://twitter.com/romelyjuju/status/17300101...  \n",
       "4  https://twitter.com/ERambawa67114/status/17300...  "
      ]
     },
     "execution_count": 43,
     "metadata": {},
     "output_type": "execute_result"
    }
   ],
   "source": [
    "# Overview dataset\n",
    "data_2.head()"
   ]
  },
  {
   "cell_type": "code",
   "execution_count": 44,
   "metadata": {},
   "outputs": [
    {
     "data": {
      "text/plain": [
       "(275, 12)"
      ]
     },
     "execution_count": 44,
     "metadata": {},
     "output_type": "execute_result"
    }
   ],
   "source": [
    "# Concatenate dataset\n",
    "data = pd.concat([data_1, data_2]).drop_duplicates(subset = ['tweet_url']).reset_index(drop = True)\n",
    "\n",
    "# Check dimension\n",
    "data.shape"
   ]
  },
  {
   "cell_type": "code",
   "execution_count": 45,
   "metadata": {},
   "outputs": [],
   "source": [
    "# Save Result\n",
    "data.to_csv(target_result, index=False)"
   ]
  },
  {
   "cell_type": "markdown",
   "metadata": {},
   "source": [
    "### Gibran Rakabuming"
   ]
  },
  {
   "cell_type": "code",
   "execution_count": 46,
   "metadata": {},
   "outputs": [],
   "source": [
    "# Define path dataset\n",
    "path_dataset = [\n",
    "    \"twitter_data/Gibran_Rakabuming_1.csv\", \n",
    "    \"twitter_data/Gibran_Rakabuming_1.2_.csv\"\n",
    "]\n",
    "target_result = \"final_dataset/twitter_gibran_rakabuming.csv\""
   ]
  },
  {
   "cell_type": "code",
   "execution_count": 47,
   "metadata": {},
   "outputs": [],
   "source": [
    "# Read dataset\n",
    "data_1 = pd.read_csv(path_dataset[0].replace(\"\\r\", \"/r\"), sep=\";\")\n",
    "data_1 = data_1.replace(\"\", np.nan)"
   ]
  },
  {
   "cell_type": "code",
   "execution_count": 48,
   "metadata": {},
   "outputs": [],
   "source": [
    "# Read dataset\n",
    "data_2 = pd.read_csv(path_dataset[1].replace(\"\\r\", \"/r\"), sep=\";\")\n",
    "data_2 = data_2.replace(\"\", np.nan)"
   ]
  },
  {
   "cell_type": "code",
   "execution_count": 49,
   "metadata": {},
   "outputs": [
    {
     "data": {
      "text/plain": [
       "((69, 12), (322, 12))"
      ]
     },
     "execution_count": 49,
     "metadata": {},
     "output_type": "execute_result"
    }
   ],
   "source": [
    "# Overview dataset\n",
    "data_1.shape, data_2.shape"
   ]
  },
  {
   "cell_type": "code",
   "execution_count": 50,
   "metadata": {},
   "outputs": [
    {
     "data": {
      "text/plain": [
       "created_at             0\n",
       "id_str                 0\n",
       "full_text              0\n",
       "quote_count            0\n",
       "reply_count            0\n",
       "retweet_count          0\n",
       "favorite_count         0\n",
       "lang                   0\n",
       "user_id_str            0\n",
       "conversation_id_str    0\n",
       "username               0\n",
       "tweet_url              0\n",
       "dtype: int64"
      ]
     },
     "execution_count": 50,
     "metadata": {},
     "output_type": "execute_result"
    }
   ],
   "source": [
    "# Overview dataset\n",
    "data_1.isna().sum()"
   ]
  },
  {
   "cell_type": "code",
   "execution_count": 51,
   "metadata": {},
   "outputs": [
    {
     "data": {
      "text/plain": [
       "created_at             0\n",
       "id_str                 0\n",
       "full_text              0\n",
       "quote_count            0\n",
       "reply_count            0\n",
       "retweet_count          0\n",
       "favorite_count         0\n",
       "lang                   0\n",
       "user_id_str            0\n",
       "conversation_id_str    0\n",
       "username               0\n",
       "tweet_url              0\n",
       "dtype: int64"
      ]
     },
     "execution_count": 51,
     "metadata": {},
     "output_type": "execute_result"
    }
   ],
   "source": [
    "# Overview dataset\n",
    "data_2.isna().sum()"
   ]
  },
  {
   "cell_type": "code",
   "execution_count": 52,
   "metadata": {},
   "outputs": [
    {
     "data": {
      "text/html": [
       "<div>\n",
       "<style scoped>\n",
       "    .dataframe tbody tr th:only-of-type {\n",
       "        vertical-align: middle;\n",
       "    }\n",
       "\n",
       "    .dataframe tbody tr th {\n",
       "        vertical-align: top;\n",
       "    }\n",
       "\n",
       "    .dataframe thead th {\n",
       "        text-align: right;\n",
       "    }\n",
       "</style>\n",
       "<table border=\"1\" class=\"dataframe\">\n",
       "  <thead>\n",
       "    <tr style=\"text-align: right;\">\n",
       "      <th></th>\n",
       "      <th>created_at</th>\n",
       "      <th>id_str</th>\n",
       "      <th>full_text</th>\n",
       "      <th>quote_count</th>\n",
       "      <th>reply_count</th>\n",
       "      <th>retweet_count</th>\n",
       "      <th>favorite_count</th>\n",
       "      <th>lang</th>\n",
       "      <th>user_id_str</th>\n",
       "      <th>conversation_id_str</th>\n",
       "      <th>username</th>\n",
       "      <th>tweet_url</th>\n",
       "    </tr>\n",
       "  </thead>\n",
       "  <tbody>\n",
       "    <tr>\n",
       "      <th>0</th>\n",
       "      <td>Wed Nov 29 23:55:10 +0000 2023</td>\n",
       "      <td>1730012558126682481</td>\n",
       "      <td>Akhir pekan ini capres dan cawapres nomor urut...</td>\n",
       "      <td>0</td>\n",
       "      <td>0</td>\n",
       "      <td>0</td>\n",
       "      <td>1</td>\n",
       "      <td>in</td>\n",
       "      <td>154102750</td>\n",
       "      <td>1730012558126682481</td>\n",
       "      <td>Beritasatu</td>\n",
       "      <td>https://twitter.com/Beritasatu/status/17300125...</td>\n",
       "    </tr>\n",
       "    <tr>\n",
       "      <th>1</th>\n",
       "      <td>Wed Nov 29 23:47:39 +0000 2023</td>\n",
       "      <td>1730010666415890648</td>\n",
       "      <td>HARUS KONSEKUEN, SESUAI PREDIKATNYA YANG LEBIH...</td>\n",
       "      <td>0</td>\n",
       "      <td>0</td>\n",
       "      <td>0</td>\n",
       "      <td>2</td>\n",
       "      <td>in</td>\n",
       "      <td>2266842889</td>\n",
       "      <td>1730010666415890648</td>\n",
       "      <td>ZoelHayat</td>\n",
       "      <td>https://twitter.com/ZoelHayat/status/173001066...</td>\n",
       "    </tr>\n",
       "    <tr>\n",
       "      <th>2</th>\n",
       "      <td>Wed Nov 29 23:08:35 +0000 2023</td>\n",
       "      <td>1730000834333909385</td>\n",
       "      <td>Gibran Rakabuming Raka menanggai santai soal s...</td>\n",
       "      <td>1</td>\n",
       "      <td>4</td>\n",
       "      <td>0</td>\n",
       "      <td>0</td>\n",
       "      <td>in</td>\n",
       "      <td>23343960</td>\n",
       "      <td>1730000834333909385</td>\n",
       "      <td>kompascom</td>\n",
       "      <td>https://twitter.com/kompascom/status/173000083...</td>\n",
       "    </tr>\n",
       "    <tr>\n",
       "      <th>3</th>\n",
       "      <td>Wed Nov 29 22:09:06 +0000 2023</td>\n",
       "      <td>1729985865697681425</td>\n",
       "      <td>Ketua TKN Prabowo Subianto-Gibran Rakabuming R...</td>\n",
       "      <td>0</td>\n",
       "      <td>3</td>\n",
       "      <td>0</td>\n",
       "      <td>0</td>\n",
       "      <td>in</td>\n",
       "      <td>23343960</td>\n",
       "      <td>1729985865697681425</td>\n",
       "      <td>kompascom</td>\n",
       "      <td>https://twitter.com/kompascom/status/172998586...</td>\n",
       "    </tr>\n",
       "    <tr>\n",
       "      <th>4</th>\n",
       "      <td>Wed Nov 29 22:07:56 +0000 2023</td>\n",
       "      <td>1729985571014213740</td>\n",
       "      <td>Juru bicara TKN pasangan capres dan cawapres n...</td>\n",
       "      <td>0</td>\n",
       "      <td>5</td>\n",
       "      <td>0</td>\n",
       "      <td>0</td>\n",
       "      <td>in</td>\n",
       "      <td>23343960</td>\n",
       "      <td>1729985571014213740</td>\n",
       "      <td>kompascom</td>\n",
       "      <td>https://twitter.com/kompascom/status/172998557...</td>\n",
       "    </tr>\n",
       "  </tbody>\n",
       "</table>\n",
       "</div>"
      ],
      "text/plain": [
       "                       created_at               id_str  \\\n",
       "0  Wed Nov 29 23:55:10 +0000 2023  1730012558126682481   \n",
       "1  Wed Nov 29 23:47:39 +0000 2023  1730010666415890648   \n",
       "2  Wed Nov 29 23:08:35 +0000 2023  1730000834333909385   \n",
       "3  Wed Nov 29 22:09:06 +0000 2023  1729985865697681425   \n",
       "4  Wed Nov 29 22:07:56 +0000 2023  1729985571014213740   \n",
       "\n",
       "                                           full_text  quote_count  \\\n",
       "0  Akhir pekan ini capres dan cawapres nomor urut...            0   \n",
       "1  HARUS KONSEKUEN, SESUAI PREDIKATNYA YANG LEBIH...            0   \n",
       "2  Gibran Rakabuming Raka menanggai santai soal s...            1   \n",
       "3  Ketua TKN Prabowo Subianto-Gibran Rakabuming R...            0   \n",
       "4  Juru bicara TKN pasangan capres dan cawapres n...            0   \n",
       "\n",
       "   reply_count  retweet_count  favorite_count lang  user_id_str  \\\n",
       "0            0              0               1   in    154102750   \n",
       "1            0              0               2   in   2266842889   \n",
       "2            4              0               0   in     23343960   \n",
       "3            3              0               0   in     23343960   \n",
       "4            5              0               0   in     23343960   \n",
       "\n",
       "   conversation_id_str    username  \\\n",
       "0  1730012558126682481  Beritasatu   \n",
       "1  1730010666415890648   ZoelHayat   \n",
       "2  1730000834333909385   kompascom   \n",
       "3  1729985865697681425   kompascom   \n",
       "4  1729985571014213740   kompascom   \n",
       "\n",
       "                                           tweet_url  \n",
       "0  https://twitter.com/Beritasatu/status/17300125...  \n",
       "1  https://twitter.com/ZoelHayat/status/173001066...  \n",
       "2  https://twitter.com/kompascom/status/173000083...  \n",
       "3  https://twitter.com/kompascom/status/172998586...  \n",
       "4  https://twitter.com/kompascom/status/172998557...  "
      ]
     },
     "execution_count": 52,
     "metadata": {},
     "output_type": "execute_result"
    }
   ],
   "source": [
    "# Overview dataset\n",
    "data_1.head()"
   ]
  },
  {
   "cell_type": "code",
   "execution_count": 53,
   "metadata": {},
   "outputs": [
    {
     "data": {
      "text/html": [
       "<div>\n",
       "<style scoped>\n",
       "    .dataframe tbody tr th:only-of-type {\n",
       "        vertical-align: middle;\n",
       "    }\n",
       "\n",
       "    .dataframe tbody tr th {\n",
       "        vertical-align: top;\n",
       "    }\n",
       "\n",
       "    .dataframe thead th {\n",
       "        text-align: right;\n",
       "    }\n",
       "</style>\n",
       "<table border=\"1\" class=\"dataframe\">\n",
       "  <thead>\n",
       "    <tr style=\"text-align: right;\">\n",
       "      <th></th>\n",
       "      <th>created_at</th>\n",
       "      <th>id_str</th>\n",
       "      <th>full_text</th>\n",
       "      <th>quote_count</th>\n",
       "      <th>reply_count</th>\n",
       "      <th>retweet_count</th>\n",
       "      <th>favorite_count</th>\n",
       "      <th>lang</th>\n",
       "      <th>user_id_str</th>\n",
       "      <th>conversation_id_str</th>\n",
       "      <th>username</th>\n",
       "      <th>tweet_url</th>\n",
       "    </tr>\n",
       "  </thead>\n",
       "  <tbody>\n",
       "    <tr>\n",
       "      <th>0</th>\n",
       "      <td>Wed Nov 29 23:55:10 +0000 2023</td>\n",
       "      <td>1730012558126682481</td>\n",
       "      <td>Akhir pekan ini capres dan cawapres nomor urut...</td>\n",
       "      <td>0</td>\n",
       "      <td>0</td>\n",
       "      <td>0</td>\n",
       "      <td>1</td>\n",
       "      <td>in</td>\n",
       "      <td>154102750</td>\n",
       "      <td>1730012558126682481</td>\n",
       "      <td>Beritasatu</td>\n",
       "      <td>https://twitter.com/Beritasatu/status/17300125...</td>\n",
       "    </tr>\n",
       "    <tr>\n",
       "      <th>1</th>\n",
       "      <td>Wed Nov 29 23:47:39 +0000 2023</td>\n",
       "      <td>1730010666415890648</td>\n",
       "      <td>HARUS KONSEKUEN, SESUAI PREDIKATNYA YANG LEBIH...</td>\n",
       "      <td>0</td>\n",
       "      <td>0</td>\n",
       "      <td>0</td>\n",
       "      <td>2</td>\n",
       "      <td>in</td>\n",
       "      <td>2266842889</td>\n",
       "      <td>1730010666415890648</td>\n",
       "      <td>ZoelHayat</td>\n",
       "      <td>https://twitter.com/ZoelHayat/status/173001066...</td>\n",
       "    </tr>\n",
       "    <tr>\n",
       "      <th>2</th>\n",
       "      <td>Wed Nov 29 23:08:35 +0000 2023</td>\n",
       "      <td>1730000834333909385</td>\n",
       "      <td>Gibran Rakabuming Raka menanggai santai soal s...</td>\n",
       "      <td>1</td>\n",
       "      <td>4</td>\n",
       "      <td>0</td>\n",
       "      <td>0</td>\n",
       "      <td>in</td>\n",
       "      <td>23343960</td>\n",
       "      <td>1730000834333909385</td>\n",
       "      <td>kompascom</td>\n",
       "      <td>https://twitter.com/kompascom/status/173000083...</td>\n",
       "    </tr>\n",
       "    <tr>\n",
       "      <th>3</th>\n",
       "      <td>Wed Nov 29 22:09:06 +0000 2023</td>\n",
       "      <td>1729985865697681425</td>\n",
       "      <td>Ketua TKN Prabowo Subianto-Gibran Rakabuming R...</td>\n",
       "      <td>0</td>\n",
       "      <td>3</td>\n",
       "      <td>0</td>\n",
       "      <td>0</td>\n",
       "      <td>in</td>\n",
       "      <td>23343960</td>\n",
       "      <td>1729985865697681425</td>\n",
       "      <td>kompascom</td>\n",
       "      <td>https://twitter.com/kompascom/status/172998586...</td>\n",
       "    </tr>\n",
       "    <tr>\n",
       "      <th>4</th>\n",
       "      <td>Wed Nov 29 22:07:56 +0000 2023</td>\n",
       "      <td>1729985571014213740</td>\n",
       "      <td>Juru bicara TKN pasangan capres dan cawapres n...</td>\n",
       "      <td>0</td>\n",
       "      <td>5</td>\n",
       "      <td>0</td>\n",
       "      <td>0</td>\n",
       "      <td>in</td>\n",
       "      <td>23343960</td>\n",
       "      <td>1729985571014213740</td>\n",
       "      <td>kompascom</td>\n",
       "      <td>https://twitter.com/kompascom/status/172998557...</td>\n",
       "    </tr>\n",
       "  </tbody>\n",
       "</table>\n",
       "</div>"
      ],
      "text/plain": [
       "                       created_at               id_str  \\\n",
       "0  Wed Nov 29 23:55:10 +0000 2023  1730012558126682481   \n",
       "1  Wed Nov 29 23:47:39 +0000 2023  1730010666415890648   \n",
       "2  Wed Nov 29 23:08:35 +0000 2023  1730000834333909385   \n",
       "3  Wed Nov 29 22:09:06 +0000 2023  1729985865697681425   \n",
       "4  Wed Nov 29 22:07:56 +0000 2023  1729985571014213740   \n",
       "\n",
       "                                           full_text  quote_count  \\\n",
       "0  Akhir pekan ini capres dan cawapres nomor urut...            0   \n",
       "1  HARUS KONSEKUEN, SESUAI PREDIKATNYA YANG LEBIH...            0   \n",
       "2  Gibran Rakabuming Raka menanggai santai soal s...            1   \n",
       "3  Ketua TKN Prabowo Subianto-Gibran Rakabuming R...            0   \n",
       "4  Juru bicara TKN pasangan capres dan cawapres n...            0   \n",
       "\n",
       "   reply_count  retweet_count  favorite_count lang  user_id_str  \\\n",
       "0            0              0               1   in    154102750   \n",
       "1            0              0               2   in   2266842889   \n",
       "2            4              0               0   in     23343960   \n",
       "3            3              0               0   in     23343960   \n",
       "4            5              0               0   in     23343960   \n",
       "\n",
       "   conversation_id_str    username  \\\n",
       "0  1730012558126682481  Beritasatu   \n",
       "1  1730010666415890648   ZoelHayat   \n",
       "2  1730000834333909385   kompascom   \n",
       "3  1729985865697681425   kompascom   \n",
       "4  1729985571014213740   kompascom   \n",
       "\n",
       "                                           tweet_url  \n",
       "0  https://twitter.com/Beritasatu/status/17300125...  \n",
       "1  https://twitter.com/ZoelHayat/status/173001066...  \n",
       "2  https://twitter.com/kompascom/status/173000083...  \n",
       "3  https://twitter.com/kompascom/status/172998586...  \n",
       "4  https://twitter.com/kompascom/status/172998557...  "
      ]
     },
     "execution_count": 53,
     "metadata": {},
     "output_type": "execute_result"
    }
   ],
   "source": [
    "# Overview dataset\n",
    "data_2.head()"
   ]
  },
  {
   "cell_type": "code",
   "execution_count": 54,
   "metadata": {},
   "outputs": [
    {
     "data": {
      "text/plain": [
       "(322, 12)"
      ]
     },
     "execution_count": 54,
     "metadata": {},
     "output_type": "execute_result"
    }
   ],
   "source": [
    "# Concatenate dataset\n",
    "data = pd.concat([data_1, data_2]).drop_duplicates(subset = ['tweet_url']).reset_index(drop = True)\n",
    "\n",
    "# Check dimension\n",
    "data.shape"
   ]
  },
  {
   "cell_type": "code",
   "execution_count": 55,
   "metadata": {},
   "outputs": [],
   "source": [
    "# Save Result\n",
    "data.to_csv(target_result, index=False)"
   ]
  },
  {
   "cell_type": "markdown",
   "metadata": {},
   "source": [
    "### Prabowo Subianto"
   ]
  },
  {
   "cell_type": "code",
   "execution_count": 56,
   "metadata": {},
   "outputs": [],
   "source": [
    "# Define path dataset\n",
    "path_dataset = [\n",
    "    \"twitter_data/Prabowo_Subianto_1.csv\", \n",
    "    \"twitter_data/Prabowo_Subianto_1.2_.csv\"\n",
    "]\n",
    "target_result = \"final_dataset/twitter_prabowo_subianto.csv\""
   ]
  },
  {
   "cell_type": "code",
   "execution_count": 57,
   "metadata": {},
   "outputs": [],
   "source": [
    "# Read dataset\n",
    "data_1 = pd.read_csv(path_dataset[0].replace(\"\\r\", \"/r\"), sep=\";\")\n",
    "data_1 = data_1.replace(\"\", np.nan)"
   ]
  },
  {
   "cell_type": "code",
   "execution_count": 58,
   "metadata": {},
   "outputs": [],
   "source": [
    "# Read dataset\n",
    "data_2 = pd.read_csv(path_dataset[1].replace(\"\\r\", \"/r\"), sep=\";\")\n",
    "data_2 = data_2.replace(\"\", np.nan)"
   ]
  },
  {
   "cell_type": "code",
   "execution_count": 59,
   "metadata": {},
   "outputs": [
    {
     "data": {
      "text/plain": [
       "((100, 12), (102, 12))"
      ]
     },
     "execution_count": 59,
     "metadata": {},
     "output_type": "execute_result"
    }
   ],
   "source": [
    "# Overview dataset\n",
    "data_1.shape, data_2.shape"
   ]
  },
  {
   "cell_type": "code",
   "execution_count": 60,
   "metadata": {},
   "outputs": [
    {
     "data": {
      "text/plain": [
       "created_at             0\n",
       "id_str                 0\n",
       "full_text              0\n",
       "quote_count            0\n",
       "reply_count            0\n",
       "retweet_count          0\n",
       "favorite_count         0\n",
       "lang                   0\n",
       "user_id_str            0\n",
       "conversation_id_str    0\n",
       "username               0\n",
       "tweet_url              0\n",
       "dtype: int64"
      ]
     },
     "execution_count": 60,
     "metadata": {},
     "output_type": "execute_result"
    }
   ],
   "source": [
    "# Overview dataset\n",
    "data_1.isna().sum()"
   ]
  },
  {
   "cell_type": "code",
   "execution_count": 61,
   "metadata": {},
   "outputs": [
    {
     "data": {
      "text/plain": [
       "created_at             0\n",
       "id_str                 0\n",
       "full_text              0\n",
       "quote_count            0\n",
       "reply_count            0\n",
       "retweet_count          0\n",
       "favorite_count         0\n",
       "lang                   0\n",
       "user_id_str            0\n",
       "conversation_id_str    0\n",
       "username               0\n",
       "tweet_url              0\n",
       "dtype: int64"
      ]
     },
     "execution_count": 61,
     "metadata": {},
     "output_type": "execute_result"
    }
   ],
   "source": [
    "# Overview dataset\n",
    "data_2.isna().sum()"
   ]
  },
  {
   "cell_type": "code",
   "execution_count": 62,
   "metadata": {},
   "outputs": [
    {
     "data": {
      "text/html": [
       "<div>\n",
       "<style scoped>\n",
       "    .dataframe tbody tr th:only-of-type {\n",
       "        vertical-align: middle;\n",
       "    }\n",
       "\n",
       "    .dataframe tbody tr th {\n",
       "        vertical-align: top;\n",
       "    }\n",
       "\n",
       "    .dataframe thead th {\n",
       "        text-align: right;\n",
       "    }\n",
       "</style>\n",
       "<table border=\"1\" class=\"dataframe\">\n",
       "  <thead>\n",
       "    <tr style=\"text-align: right;\">\n",
       "      <th></th>\n",
       "      <th>created_at</th>\n",
       "      <th>id_str</th>\n",
       "      <th>full_text</th>\n",
       "      <th>quote_count</th>\n",
       "      <th>reply_count</th>\n",
       "      <th>retweet_count</th>\n",
       "      <th>favorite_count</th>\n",
       "      <th>lang</th>\n",
       "      <th>user_id_str</th>\n",
       "      <th>conversation_id_str</th>\n",
       "      <th>username</th>\n",
       "      <th>tweet_url</th>\n",
       "    </tr>\n",
       "  </thead>\n",
       "  <tbody>\n",
       "    <tr>\n",
       "      <th>0</th>\n",
       "      <td>Wed Nov 29 23:55:15 +0000 2023</td>\n",
       "      <td>1730012580595528120</td>\n",
       "      <td>yang menegaskan agar anggota KORPRI Kemhan dap...</td>\n",
       "      <td>0</td>\n",
       "      <td>0</td>\n",
       "      <td>0</td>\n",
       "      <td>5</td>\n",
       "      <td>in</td>\n",
       "      <td>714719021816541184</td>\n",
       "      <td>1730012575465889999</td>\n",
       "      <td>Kemhan_RI</td>\n",
       "      <td>https://twitter.com/Kemhan_RI/status/173001258...</td>\n",
       "    </tr>\n",
       "    <tr>\n",
       "      <th>1</th>\n",
       "      <td>Wed Nov 29 23:55:14 +0000 2023</td>\n",
       "      <td>1730012575465889999</td>\n",
       "      <td>Momen Wamenhan, M. Herindra @herindra87, memim...</td>\n",
       "      <td>0</td>\n",
       "      <td>1</td>\n",
       "      <td>5</td>\n",
       "      <td>27</td>\n",
       "      <td>in</td>\n",
       "      <td>714719021816541184</td>\n",
       "      <td>1730012575465889999</td>\n",
       "      <td>Kemhan_RI</td>\n",
       "      <td>https://twitter.com/Kemhan_RI/status/173001257...</td>\n",
       "    </tr>\n",
       "    <tr>\n",
       "      <th>2</th>\n",
       "      <td>Wed Nov 29 23:55:10 +0000 2023</td>\n",
       "      <td>1730012558126682481</td>\n",
       "      <td>Akhir pekan ini capres dan cawapres nomor urut...</td>\n",
       "      <td>0</td>\n",
       "      <td>0</td>\n",
       "      <td>0</td>\n",
       "      <td>1</td>\n",
       "      <td>in</td>\n",
       "      <td>154102750</td>\n",
       "      <td>1730012558126682481</td>\n",
       "      <td>Beritasatu</td>\n",
       "      <td>https://twitter.com/Beritasatu/status/17300125...</td>\n",
       "    </tr>\n",
       "    <tr>\n",
       "      <th>3</th>\n",
       "      <td>Wed Nov 29 23:50:41 +0000 2023</td>\n",
       "      <td>1730011427820454264</td>\n",
       "      <td>Presiden Jokowi adalah seorang presiden, mento...</td>\n",
       "      <td>0</td>\n",
       "      <td>0</td>\n",
       "      <td>0</td>\n",
       "      <td>0</td>\n",
       "      <td>in</td>\n",
       "      <td>1598344201409699841</td>\n",
       "      <td>1730011427820454264</td>\n",
       "      <td>TitaMar80993092</td>\n",
       "      <td>https://twitter.com/TitaMar80993092/status/173...</td>\n",
       "    </tr>\n",
       "    <tr>\n",
       "      <th>4</th>\n",
       "      <td>Wed Nov 29 23:49:10 +0000 2023</td>\n",
       "      <td>1730011046113632550</td>\n",
       "      <td>@barubikinlol Ganjar Pranowo? Prabowo Subianto...</td>\n",
       "      <td>0</td>\n",
       "      <td>2</td>\n",
       "      <td>1</td>\n",
       "      <td>42</td>\n",
       "      <td>in</td>\n",
       "      <td>593490220</td>\n",
       "      <td>1729852949877137761</td>\n",
       "      <td>Goodwindology</td>\n",
       "      <td>https://twitter.com/Goodwindology/status/17300...</td>\n",
       "    </tr>\n",
       "  </tbody>\n",
       "</table>\n",
       "</div>"
      ],
      "text/plain": [
       "                       created_at               id_str  \\\n",
       "0  Wed Nov 29 23:55:15 +0000 2023  1730012580595528120   \n",
       "1  Wed Nov 29 23:55:14 +0000 2023  1730012575465889999   \n",
       "2  Wed Nov 29 23:55:10 +0000 2023  1730012558126682481   \n",
       "3  Wed Nov 29 23:50:41 +0000 2023  1730011427820454264   \n",
       "4  Wed Nov 29 23:49:10 +0000 2023  1730011046113632550   \n",
       "\n",
       "                                           full_text  quote_count  \\\n",
       "0  yang menegaskan agar anggota KORPRI Kemhan dap...            0   \n",
       "1  Momen Wamenhan, M. Herindra @herindra87, memim...            0   \n",
       "2  Akhir pekan ini capres dan cawapres nomor urut...            0   \n",
       "3  Presiden Jokowi adalah seorang presiden, mento...            0   \n",
       "4  @barubikinlol Ganjar Pranowo? Prabowo Subianto...            0   \n",
       "\n",
       "   reply_count  retweet_count  favorite_count lang          user_id_str  \\\n",
       "0            0              0               5   in   714719021816541184   \n",
       "1            1              5              27   in   714719021816541184   \n",
       "2            0              0               1   in            154102750   \n",
       "3            0              0               0   in  1598344201409699841   \n",
       "4            2              1              42   in            593490220   \n",
       "\n",
       "   conversation_id_str         username  \\\n",
       "0  1730012575465889999        Kemhan_RI   \n",
       "1  1730012575465889999        Kemhan_RI   \n",
       "2  1730012558126682481       Beritasatu   \n",
       "3  1730011427820454264  TitaMar80993092   \n",
       "4  1729852949877137761    Goodwindology   \n",
       "\n",
       "                                           tweet_url  \n",
       "0  https://twitter.com/Kemhan_RI/status/173001258...  \n",
       "1  https://twitter.com/Kemhan_RI/status/173001257...  \n",
       "2  https://twitter.com/Beritasatu/status/17300125...  \n",
       "3  https://twitter.com/TitaMar80993092/status/173...  \n",
       "4  https://twitter.com/Goodwindology/status/17300...  "
      ]
     },
     "execution_count": 62,
     "metadata": {},
     "output_type": "execute_result"
    }
   ],
   "source": [
    "# Overview dataset\n",
    "data_1.head()"
   ]
  },
  {
   "cell_type": "code",
   "execution_count": 63,
   "metadata": {},
   "outputs": [
    {
     "data": {
      "text/html": [
       "<div>\n",
       "<style scoped>\n",
       "    .dataframe tbody tr th:only-of-type {\n",
       "        vertical-align: middle;\n",
       "    }\n",
       "\n",
       "    .dataframe tbody tr th {\n",
       "        vertical-align: top;\n",
       "    }\n",
       "\n",
       "    .dataframe thead th {\n",
       "        text-align: right;\n",
       "    }\n",
       "</style>\n",
       "<table border=\"1\" class=\"dataframe\">\n",
       "  <thead>\n",
       "    <tr style=\"text-align: right;\">\n",
       "      <th></th>\n",
       "      <th>created_at</th>\n",
       "      <th>id_str</th>\n",
       "      <th>full_text</th>\n",
       "      <th>quote_count</th>\n",
       "      <th>reply_count</th>\n",
       "      <th>retweet_count</th>\n",
       "      <th>favorite_count</th>\n",
       "      <th>lang</th>\n",
       "      <th>user_id_str</th>\n",
       "      <th>conversation_id_str</th>\n",
       "      <th>username</th>\n",
       "      <th>tweet_url</th>\n",
       "    </tr>\n",
       "  </thead>\n",
       "  <tbody>\n",
       "    <tr>\n",
       "      <th>0</th>\n",
       "      <td>Wed Nov 29 23:55:15 +0000 2023</td>\n",
       "      <td>1730012580595528120</td>\n",
       "      <td>yang menegaskan agar anggota KORPRI Kemhan dap...</td>\n",
       "      <td>0</td>\n",
       "      <td>0</td>\n",
       "      <td>0</td>\n",
       "      <td>5</td>\n",
       "      <td>in</td>\n",
       "      <td>714719021816541184</td>\n",
       "      <td>1730012575465889999</td>\n",
       "      <td>Kemhan_RI</td>\n",
       "      <td>https://twitter.com/Kemhan_RI/status/173001258...</td>\n",
       "    </tr>\n",
       "    <tr>\n",
       "      <th>1</th>\n",
       "      <td>Wed Nov 29 23:55:14 +0000 2023</td>\n",
       "      <td>1730012575465889999</td>\n",
       "      <td>Momen Wamenhan, M. Herindra @herindra87, memim...</td>\n",
       "      <td>0</td>\n",
       "      <td>1</td>\n",
       "      <td>5</td>\n",
       "      <td>27</td>\n",
       "      <td>in</td>\n",
       "      <td>714719021816541184</td>\n",
       "      <td>1730012575465889999</td>\n",
       "      <td>Kemhan_RI</td>\n",
       "      <td>https://twitter.com/Kemhan_RI/status/173001257...</td>\n",
       "    </tr>\n",
       "    <tr>\n",
       "      <th>2</th>\n",
       "      <td>Wed Nov 29 23:55:10 +0000 2023</td>\n",
       "      <td>1730012558126682481</td>\n",
       "      <td>Akhir pekan ini capres dan cawapres nomor urut...</td>\n",
       "      <td>0</td>\n",
       "      <td>0</td>\n",
       "      <td>0</td>\n",
       "      <td>1</td>\n",
       "      <td>in</td>\n",
       "      <td>154102750</td>\n",
       "      <td>1730012558126682481</td>\n",
       "      <td>Beritasatu</td>\n",
       "      <td>https://twitter.com/Beritasatu/status/17300125...</td>\n",
       "    </tr>\n",
       "    <tr>\n",
       "      <th>3</th>\n",
       "      <td>Wed Nov 29 23:50:41 +0000 2023</td>\n",
       "      <td>1730011427820454264</td>\n",
       "      <td>Presiden Jokowi adalah seorang presiden, mento...</td>\n",
       "      <td>0</td>\n",
       "      <td>0</td>\n",
       "      <td>0</td>\n",
       "      <td>0</td>\n",
       "      <td>in</td>\n",
       "      <td>1598344201409699841</td>\n",
       "      <td>1730011427820454264</td>\n",
       "      <td>TitaMar80993092</td>\n",
       "      <td>https://twitter.com/TitaMar80993092/status/173...</td>\n",
       "    </tr>\n",
       "    <tr>\n",
       "      <th>4</th>\n",
       "      <td>Wed Nov 29 23:49:10 +0000 2023</td>\n",
       "      <td>1730011046113632550</td>\n",
       "      <td>@barubikinlol Ganjar Pranowo? Prabowo Subianto...</td>\n",
       "      <td>0</td>\n",
       "      <td>2</td>\n",
       "      <td>1</td>\n",
       "      <td>43</td>\n",
       "      <td>in</td>\n",
       "      <td>593490220</td>\n",
       "      <td>1729852949877137761</td>\n",
       "      <td>Goodwindology</td>\n",
       "      <td>https://twitter.com/Goodwindology/status/17300...</td>\n",
       "    </tr>\n",
       "  </tbody>\n",
       "</table>\n",
       "</div>"
      ],
      "text/plain": [
       "                       created_at               id_str  \\\n",
       "0  Wed Nov 29 23:55:15 +0000 2023  1730012580595528120   \n",
       "1  Wed Nov 29 23:55:14 +0000 2023  1730012575465889999   \n",
       "2  Wed Nov 29 23:55:10 +0000 2023  1730012558126682481   \n",
       "3  Wed Nov 29 23:50:41 +0000 2023  1730011427820454264   \n",
       "4  Wed Nov 29 23:49:10 +0000 2023  1730011046113632550   \n",
       "\n",
       "                                           full_text  quote_count  \\\n",
       "0  yang menegaskan agar anggota KORPRI Kemhan dap...            0   \n",
       "1  Momen Wamenhan, M. Herindra @herindra87, memim...            0   \n",
       "2  Akhir pekan ini capres dan cawapres nomor urut...            0   \n",
       "3  Presiden Jokowi adalah seorang presiden, mento...            0   \n",
       "4  @barubikinlol Ganjar Pranowo? Prabowo Subianto...            0   \n",
       "\n",
       "   reply_count  retweet_count  favorite_count lang          user_id_str  \\\n",
       "0            0              0               5   in   714719021816541184   \n",
       "1            1              5              27   in   714719021816541184   \n",
       "2            0              0               1   in            154102750   \n",
       "3            0              0               0   in  1598344201409699841   \n",
       "4            2              1              43   in            593490220   \n",
       "\n",
       "   conversation_id_str         username  \\\n",
       "0  1730012575465889999        Kemhan_RI   \n",
       "1  1730012575465889999        Kemhan_RI   \n",
       "2  1730012558126682481       Beritasatu   \n",
       "3  1730011427820454264  TitaMar80993092   \n",
       "4  1729852949877137761    Goodwindology   \n",
       "\n",
       "                                           tweet_url  \n",
       "0  https://twitter.com/Kemhan_RI/status/173001258...  \n",
       "1  https://twitter.com/Kemhan_RI/status/173001257...  \n",
       "2  https://twitter.com/Beritasatu/status/17300125...  \n",
       "3  https://twitter.com/TitaMar80993092/status/173...  \n",
       "4  https://twitter.com/Goodwindology/status/17300...  "
      ]
     },
     "execution_count": 63,
     "metadata": {},
     "output_type": "execute_result"
    }
   ],
   "source": [
    "# Overview dataset\n",
    "data_2.head()"
   ]
  },
  {
   "cell_type": "code",
   "execution_count": 64,
   "metadata": {},
   "outputs": [
    {
     "data": {
      "text/plain": [
       "(107, 12)"
      ]
     },
     "execution_count": 64,
     "metadata": {},
     "output_type": "execute_result"
    }
   ],
   "source": [
    "# Concatenate dataset\n",
    "data = pd.concat([data_1, data_2]).drop_duplicates(subset = ['tweet_url']).reset_index(drop = True)\n",
    "\n",
    "# Check dimension\n",
    "data.shape"
   ]
  },
  {
   "cell_type": "code",
   "execution_count": 65,
   "metadata": {},
   "outputs": [],
   "source": [
    "# Save Result\n",
    "data.to_csv(target_result, index=False)"
   ]
  }
 ],
 "metadata": {
  "kernelspec": {
   "display_name": "env",
   "language": "python",
   "name": "python3"
  },
  "language_info": {
   "codemirror_mode": {
    "name": "ipython",
    "version": 3
   },
   "file_extension": ".py",
   "mimetype": "text/x-python",
   "name": "python",
   "nbconvert_exporter": "python",
   "pygments_lexer": "ipython3",
   "version": "3.9.7"
  }
 },
 "nbformat": 4,
 "nbformat_minor": 2
}
