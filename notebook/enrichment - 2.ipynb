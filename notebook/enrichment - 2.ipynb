{
 "cells": [
  {
   "cell_type": "code",
   "execution_count": 2,
   "id": "a6b8a7b4",
   "metadata": {},
   "outputs": [],
   "source": [
    "# Load libraries \n",
    "import os\n",
    "import re\n",
    "import time\n",
    "import openai \n",
    "import pandas as pd \n",
    "from tqdm import tqdm\n",
    "from typing import Tuple\n",
    "from dotenv import load_dotenv\n",
    "\n",
    "\n",
    "load_dotenv()\n",
    "pd.set_option(\"display.max_columns\", None)"
   ]
  },
  {
   "cell_type": "code",
   "execution_count": 3,
   "id": "7f7ccfa1",
   "metadata": {},
   "outputs": [],
   "source": [
    "# Setting credentials\n",
    "OPENAI_KEY = os.getenv(\"OPENAI_API_KEY\", default = None) \n",
    "openai.api_key = OPENAI_KEY"
   ]
  },
  {
   "cell_type": "code",
   "execution_count": 5,
   "id": "e205895d",
   "metadata": {},
   "outputs": [
    {
     "data": {
      "text/html": [
       "<div>\n",
       "<style scoped>\n",
       "    .dataframe tbody tr th:only-of-type {\n",
       "        vertical-align: middle;\n",
       "    }\n",
       "\n",
       "    .dataframe tbody tr th {\n",
       "        vertical-align: top;\n",
       "    }\n",
       "\n",
       "    .dataframe thead th {\n",
       "        text-align: right;\n",
       "    }\n",
       "</style>\n",
       "<table border=\"1\" class=\"dataframe\">\n",
       "  <thead>\n",
       "    <tr style=\"text-align: right;\">\n",
       "      <th></th>\n",
       "      <th>created_at</th>\n",
       "      <th>id_str</th>\n",
       "      <th>full_text</th>\n",
       "      <th>quote_count</th>\n",
       "      <th>reply_count</th>\n",
       "      <th>retweet_count</th>\n",
       "      <th>favorite_count</th>\n",
       "      <th>lang</th>\n",
       "      <th>user_id_str</th>\n",
       "      <th>conversation_id_str</th>\n",
       "      <th>username</th>\n",
       "      <th>tweet_url</th>\n",
       "    </tr>\n",
       "  </thead>\n",
       "  <tbody>\n",
       "    <tr>\n",
       "      <th>0</th>\n",
       "      <td>Fri Nov 17 23:58:21 +0000 2023</td>\n",
       "      <td>1.725665e+18</td>\n",
       "      <td>@gogo74070675957 @iina_surbakti @gibran_tweet ...</td>\n",
       "      <td>0.0</td>\n",
       "      <td>0.0</td>\n",
       "      <td>0.0</td>\n",
       "      <td>1.0</td>\n",
       "      <td>in</td>\n",
       "      <td>1.213867e+18</td>\n",
       "      <td>1.725499e+18</td>\n",
       "      <td>ArjunaOnthesky</td>\n",
       "      <td>https://twitter.com/ArjunaOnthesky/status/1725...</td>\n",
       "    </tr>\n",
       "    <tr>\n",
       "      <th>1</th>\n",
       "      <td>Fri Nov 17 23:58:19 +0000 2023</td>\n",
       "      <td>1.725665e+18</td>\n",
       "      <td>@vendie7 Btw sy msh ingat omelanmu ttg prof MD...</td>\n",
       "      <td>NaN</td>\n",
       "      <td>NaN</td>\n",
       "      <td>NaN</td>\n",
       "      <td>NaN</td>\n",
       "      <td>NaN</td>\n",
       "      <td>NaN</td>\n",
       "      <td>NaN</td>\n",
       "      <td>NaN</td>\n",
       "      <td>NaN</td>\n",
       "    </tr>\n",
       "    <tr>\n",
       "      <th>2</th>\n",
       "      <td>Fri Nov 17 23:57:49 +0000 2023</td>\n",
       "      <td>1.725665e+18</td>\n",
       "      <td>ðŸ”´âšªï¸ PEMILU terutama PILPRES adalah SATU...</td>\n",
       "      <td>1.0</td>\n",
       "      <td>7.0</td>\n",
       "      <td>12.0</td>\n",
       "      <td>29.0</td>\n",
       "      <td>in</td>\n",
       "      <td>1.378303e+18</td>\n",
       "      <td>1.725665e+18</td>\n",
       "      <td>_BungHerwin</td>\n",
       "      <td>https://twitter.com/_BungHerwin/status/1725664...</td>\n",
       "    </tr>\n",
       "    <tr>\n",
       "      <th>3</th>\n",
       "      <td>Fri Nov 17 23:57:34 +0000 2023</td>\n",
       "      <td>1.725665e+18</td>\n",
       "      <td>@ekagumilars Indonesia aman &amp;amp  damai tanpa ...</td>\n",
       "      <td>0.0</td>\n",
       "      <td>0.0</td>\n",
       "      <td>0.0</td>\n",
       "      <td>0.0</td>\n",
       "      <td>in</td>\n",
       "      <td>2.537213e+09</td>\n",
       "      <td>1.725384e+18</td>\n",
       "      <td>irfandjay</td>\n",
       "      <td>https://twitter.com/irfandjay/status/172566450...</td>\n",
       "    </tr>\n",
       "    <tr>\n",
       "      <th>4</th>\n",
       "      <td>Fri Nov 17 23:57:31 +0000 2023</td>\n",
       "      <td>1.725664e+18</td>\n",
       "      <td>Pilpres kali ini</td>\n",
       "      <td>NaN</td>\n",
       "      <td>NaN</td>\n",
       "      <td>NaN</td>\n",
       "      <td>NaN</td>\n",
       "      <td>NaN</td>\n",
       "      <td>NaN</td>\n",
       "      <td>NaN</td>\n",
       "      <td>NaN</td>\n",
       "      <td>NaN</td>\n",
       "    </tr>\n",
       "  </tbody>\n",
       "</table>\n",
       "</div>"
      ],
      "text/plain": [
       "                       created_at        id_str  \\\n",
       "0  Fri Nov 17 23:58:21 +0000 2023  1.725665e+18   \n",
       "1  Fri Nov 17 23:58:19 +0000 2023  1.725665e+18   \n",
       "2  Fri Nov 17 23:57:49 +0000 2023  1.725665e+18   \n",
       "3  Fri Nov 17 23:57:34 +0000 2023  1.725665e+18   \n",
       "4  Fri Nov 17 23:57:31 +0000 2023  1.725664e+18   \n",
       "\n",
       "                                           full_text  quote_count  \\\n",
       "0  @gogo74070675957 @iina_surbakti @gibran_tweet ...          0.0   \n",
       "1  @vendie7 Btw sy msh ingat omelanmu ttg prof MD...          NaN   \n",
       "2  ðŸ”´âšªï¸ PEMILU terutama PILPRES adalah SATU...          1.0   \n",
       "3  @ekagumilars Indonesia aman &amp  damai tanpa ...          0.0   \n",
       "4                                   Pilpres kali ini          NaN   \n",
       "\n",
       "   reply_count  retweet_count  favorite_count lang   user_id_str  \\\n",
       "0          0.0            0.0             1.0   in  1.213867e+18   \n",
       "1          NaN            NaN             NaN  NaN           NaN   \n",
       "2          7.0           12.0            29.0   in  1.378303e+18   \n",
       "3          0.0            0.0             0.0   in  2.537213e+09   \n",
       "4          NaN            NaN             NaN  NaN           NaN   \n",
       "\n",
       "   conversation_id_str        username  \\\n",
       "0         1.725499e+18  ArjunaOnthesky   \n",
       "1                  NaN             NaN   \n",
       "2         1.725665e+18     _BungHerwin   \n",
       "3         1.725384e+18       irfandjay   \n",
       "4                  NaN             NaN   \n",
       "\n",
       "                                           tweet_url  \n",
       "0  https://twitter.com/ArjunaOnthesky/status/1725...  \n",
       "1                                                NaN  \n",
       "2  https://twitter.com/_BungHerwin/status/1725664...  \n",
       "3  https://twitter.com/irfandjay/status/172566450...  \n",
       "4                                                NaN  "
      ]
     },
     "execution_count": 5,
     "metadata": {},
     "output_type": "execute_result"
    }
   ],
   "source": [
    "# Load dataset\n",
    "data = pd.read_excel(\"../dataset/Full Dataset Kotor updated 2.0.xlsx\")\n",
    "data.head()"
   ]
  },
  {
   "cell_type": "code",
   "execution_count": 6,
   "id": "4065ce80",
   "metadata": {},
   "outputs": [
    {
     "data": {
      "text/plain": [
       "False    1564\n",
       "True      172\n",
       "dtype: int64"
      ]
     },
     "execution_count": 6,
     "metadata": {},
     "output_type": "execute_result"
    }
   ],
   "source": [
    "# Data Duplicate checking\n",
    "data.duplicated(subset = ['full_text', 'id_str', 'retweet_count']).value_counts()"
   ]
  },
  {
   "cell_type": "code",
   "execution_count": 7,
   "id": "bc07851b",
   "metadata": {},
   "outputs": [
    {
     "data": {
      "text/html": [
       "<div>\n",
       "<style scoped>\n",
       "    .dataframe tbody tr th:only-of-type {\n",
       "        vertical-align: middle;\n",
       "    }\n",
       "\n",
       "    .dataframe tbody tr th {\n",
       "        vertical-align: top;\n",
       "    }\n",
       "\n",
       "    .dataframe thead th {\n",
       "        text-align: right;\n",
       "    }\n",
       "</style>\n",
       "<table border=\"1\" class=\"dataframe\">\n",
       "  <thead>\n",
       "    <tr style=\"text-align: right;\">\n",
       "      <th></th>\n",
       "      <th>created_at</th>\n",
       "      <th>id_str</th>\n",
       "      <th>full_text</th>\n",
       "      <th>quote_count</th>\n",
       "      <th>reply_count</th>\n",
       "      <th>retweet_count</th>\n",
       "      <th>favorite_count</th>\n",
       "      <th>lang</th>\n",
       "      <th>user_id_str</th>\n",
       "      <th>conversation_id_str</th>\n",
       "      <th>username</th>\n",
       "      <th>tweet_url</th>\n",
       "    </tr>\n",
       "  </thead>\n",
       "  <tbody>\n",
       "    <tr>\n",
       "      <th>151</th>\n",
       "      <td>Fri Nov 17 21:00:46 +0000 2023</td>\n",
       "      <td>1.725620e+18</td>\n",
       "      <td>@NenkMonica @gibran_tweet Salahnya dmn dateng ...</td>\n",
       "      <td>NaN</td>\n",
       "      <td>NaN</td>\n",
       "      <td>NaN</td>\n",
       "      <td>NaN</td>\n",
       "      <td>NaN</td>\n",
       "      <td>NaN</td>\n",
       "      <td>NaN</td>\n",
       "      <td>NaN</td>\n",
       "      <td>NaN</td>\n",
       "    </tr>\n",
       "    <tr>\n",
       "      <th>152</th>\n",
       "      <td>Fri Nov 17 20:49:46 +0000 2023</td>\n",
       "      <td>1.725617e+18</td>\n",
       "      <td>Kreatif balon #GanjarMahfud2024 anti di Bongka...</td>\n",
       "      <td>0.0</td>\n",
       "      <td>3.0</td>\n",
       "      <td>7.0</td>\n",
       "      <td>24.0</td>\n",
       "      <td>in</td>\n",
       "      <td>7.945097e+17</td>\n",
       "      <td>1.725617e+18</td>\n",
       "      <td>Jayabay19479190</td>\n",
       "      <td>https://twitter.com/Jayabay19479190/status/172...</td>\n",
       "    </tr>\n",
       "    <tr>\n",
       "      <th>352</th>\n",
       "      <td>Fri Nov 17 16:24:41 +0000 2023</td>\n",
       "      <td>1.725551e+18</td>\n",
       "      <td>@DPP_PKB @ninikwafiroh Maju bersama AMIN memen...</td>\n",
       "      <td>0.0</td>\n",
       "      <td>0.0</td>\n",
       "      <td>0.0</td>\n",
       "      <td>0.0</td>\n",
       "      <td>in</td>\n",
       "      <td>1.618235e+18</td>\n",
       "      <td>1.725482e+18</td>\n",
       "      <td>IndahRahaleb</td>\n",
       "      <td>https://twitter.com/IndahRahaleb/status/172555...</td>\n",
       "    </tr>\n",
       "    <tr>\n",
       "      <th>353</th>\n",
       "      <td>Fri Nov 17 16:23:57 +0000 2023</td>\n",
       "      <td>1.725550e+18</td>\n",
       "      <td>@triwul82 Mahfud MD mengingatkan bahwa tanggun...</td>\n",
       "      <td>NaN</td>\n",
       "      <td>NaN</td>\n",
       "      <td>NaN</td>\n",
       "      <td>NaN</td>\n",
       "      <td>NaN</td>\n",
       "      <td>NaN</td>\n",
       "      <td>NaN</td>\n",
       "      <td>NaN</td>\n",
       "      <td>NaN</td>\n",
       "    </tr>\n",
       "    <tr>\n",
       "      <th>529</th>\n",
       "      <td>Fri Nov 17 23:56:55 +0000 2023</td>\n",
       "      <td>1.725664e+18</td>\n",
       "      <td>@Mdy_Asmara1701 Para Kabinda di banyak daerah ...</td>\n",
       "      <td>NaN</td>\n",
       "      <td>NaN</td>\n",
       "      <td>NaN</td>\n",
       "      <td>NaN</td>\n",
       "      <td>NaN</td>\n",
       "      <td>NaN</td>\n",
       "      <td>NaN</td>\n",
       "      <td>NaN</td>\n",
       "      <td>NaN</td>\n",
       "    </tr>\n",
       "    <tr>\n",
       "      <th>586</th>\n",
       "      <td>Fri Nov 17 23:58:21 +0000 2023</td>\n",
       "      <td>1.725665e+18</td>\n",
       "      <td>@gogo74070675957 @iina_surbakti @gibran_tweet ...</td>\n",
       "      <td>0.0</td>\n",
       "      <td>0.0</td>\n",
       "      <td>0.0</td>\n",
       "      <td>1.0</td>\n",
       "      <td>in</td>\n",
       "      <td>1.213867e+18</td>\n",
       "      <td>1.725499e+18</td>\n",
       "      <td>ArjunaOnthesky</td>\n",
       "      <td>https://twitter.com/ArjunaOnthesky/status/1725...</td>\n",
       "    </tr>\n",
       "    <tr>\n",
       "      <th>587</th>\n",
       "      <td>Fri Nov 17 23:56:33 +0000 2023</td>\n",
       "      <td>1.725664e+18</td>\n",
       "      <td>Ini Daftar Nama dan Struktur Lengkap TKN Prabo...</td>\n",
       "      <td>0.0</td>\n",
       "      <td>0.0</td>\n",
       "      <td>0.0</td>\n",
       "      <td>0.0</td>\n",
       "      <td>in</td>\n",
       "      <td>1.110933e+18</td>\n",
       "      <td>1.725664e+18</td>\n",
       "      <td>fathw25</td>\n",
       "      <td>https://twitter.com/fathw25/status/17256642523...</td>\n",
       "    </tr>\n",
       "    <tr>\n",
       "      <th>588</th>\n",
       "      <td>Fri Nov 17 23:53:50 +0000 2023</td>\n",
       "      <td>1.725664e+18</td>\n",
       "      <td>Kecuali Jokowi jadi ketum Golkar dan Gibran ja...</td>\n",
       "      <td>0.0</td>\n",
       "      <td>0.0</td>\n",
       "      <td>0.0</td>\n",
       "      <td>0.0</td>\n",
       "      <td>in</td>\n",
       "      <td>8.486730e+07</td>\n",
       "      <td>1.725664e+18</td>\n",
       "      <td>tualang</td>\n",
       "      <td>https://twitter.com/tualang/status/17256635676...</td>\n",
       "    </tr>\n",
       "    <tr>\n",
       "      <th>589</th>\n",
       "      <td>Fri Nov 17 23:35:18 +0000 2023</td>\n",
       "      <td>1.725659e+18</td>\n",
       "      <td>Temukan dan dapatkan Kaos Baju prabowo gemoy -...</td>\n",
       "      <td>0.0</td>\n",
       "      <td>0.0</td>\n",
       "      <td>0.0</td>\n",
       "      <td>0.0</td>\n",
       "      <td>in</td>\n",
       "      <td>2.993486e+09</td>\n",
       "      <td>1.725659e+18</td>\n",
       "      <td>aris_jenang</td>\n",
       "      <td>https://twitter.com/aris_jenang/status/1725658...</td>\n",
       "    </tr>\n",
       "    <tr>\n",
       "      <th>590</th>\n",
       "      <td>Fri Nov 17 23:35:18 +0000 2023</td>\n",
       "      <td>1.725659e+18</td>\n",
       "      <td>Masyarakat Menilai Gibran Tidak Mempunyai Kapa...</td>\n",
       "      <td>0.0</td>\n",
       "      <td>0.0</td>\n",
       "      <td>0.0</td>\n",
       "      <td>1.0</td>\n",
       "      <td>in</td>\n",
       "      <td>1.618289e+18</td>\n",
       "      <td>1.725659e+18</td>\n",
       "      <td>Liza16144812</td>\n",
       "      <td>https://twitter.com/Liza16144812/status/172565...</td>\n",
       "    </tr>\n",
       "  </tbody>\n",
       "</table>\n",
       "</div>"
      ],
      "text/plain": [
       "                         created_at        id_str  \\\n",
       "151  Fri Nov 17 21:00:46 +0000 2023  1.725620e+18   \n",
       "152  Fri Nov 17 20:49:46 +0000 2023  1.725617e+18   \n",
       "352  Fri Nov 17 16:24:41 +0000 2023  1.725551e+18   \n",
       "353  Fri Nov 17 16:23:57 +0000 2023  1.725550e+18   \n",
       "529  Fri Nov 17 23:56:55 +0000 2023  1.725664e+18   \n",
       "586  Fri Nov 17 23:58:21 +0000 2023  1.725665e+18   \n",
       "587  Fri Nov 17 23:56:33 +0000 2023  1.725664e+18   \n",
       "588  Fri Nov 17 23:53:50 +0000 2023  1.725664e+18   \n",
       "589  Fri Nov 17 23:35:18 +0000 2023  1.725659e+18   \n",
       "590  Fri Nov 17 23:35:18 +0000 2023  1.725659e+18   \n",
       "\n",
       "                                             full_text  quote_count  \\\n",
       "151  @NenkMonica @gibran_tweet Salahnya dmn dateng ...          NaN   \n",
       "152  Kreatif balon #GanjarMahfud2024 anti di Bongka...          0.0   \n",
       "352  @DPP_PKB @ninikwafiroh Maju bersama AMIN memen...          0.0   \n",
       "353  @triwul82 Mahfud MD mengingatkan bahwa tanggun...          NaN   \n",
       "529  @Mdy_Asmara1701 Para Kabinda di banyak daerah ...          NaN   \n",
       "586  @gogo74070675957 @iina_surbakti @gibran_tweet ...          0.0   \n",
       "587  Ini Daftar Nama dan Struktur Lengkap TKN Prabo...          0.0   \n",
       "588  Kecuali Jokowi jadi ketum Golkar dan Gibran ja...          0.0   \n",
       "589  Temukan dan dapatkan Kaos Baju prabowo gemoy -...          0.0   \n",
       "590  Masyarakat Menilai Gibran Tidak Mempunyai Kapa...          0.0   \n",
       "\n",
       "     reply_count  retweet_count  favorite_count lang   user_id_str  \\\n",
       "151          NaN            NaN             NaN  NaN           NaN   \n",
       "152          3.0            7.0            24.0   in  7.945097e+17   \n",
       "352          0.0            0.0             0.0   in  1.618235e+18   \n",
       "353          NaN            NaN             NaN  NaN           NaN   \n",
       "529          NaN            NaN             NaN  NaN           NaN   \n",
       "586          0.0            0.0             1.0   in  1.213867e+18   \n",
       "587          0.0            0.0             0.0   in  1.110933e+18   \n",
       "588          0.0            0.0             0.0   in  8.486730e+07   \n",
       "589          0.0            0.0             0.0   in  2.993486e+09   \n",
       "590          0.0            0.0             1.0   in  1.618289e+18   \n",
       "\n",
       "     conversation_id_str         username  \\\n",
       "151                  NaN              NaN   \n",
       "152         1.725617e+18  Jayabay19479190   \n",
       "352         1.725482e+18     IndahRahaleb   \n",
       "353                  NaN              NaN   \n",
       "529                  NaN              NaN   \n",
       "586         1.725499e+18   ArjunaOnthesky   \n",
       "587         1.725664e+18          fathw25   \n",
       "588         1.725664e+18          tualang   \n",
       "589         1.725659e+18      aris_jenang   \n",
       "590         1.725659e+18     Liza16144812   \n",
       "\n",
       "                                             tweet_url  \n",
       "151                                                NaN  \n",
       "152  https://twitter.com/Jayabay19479190/status/172...  \n",
       "352  https://twitter.com/IndahRahaleb/status/172555...  \n",
       "353                                                NaN  \n",
       "529                                                NaN  \n",
       "586  https://twitter.com/ArjunaOnthesky/status/1725...  \n",
       "587  https://twitter.com/fathw25/status/17256642523...  \n",
       "588  https://twitter.com/tualang/status/17256635676...  \n",
       "589  https://twitter.com/aris_jenang/status/1725658...  \n",
       "590  https://twitter.com/Liza16144812/status/172565...  "
      ]
     },
     "execution_count": 7,
     "metadata": {},
     "output_type": "execute_result"
    }
   ],
   "source": [
    "# Overview duplicated data\n",
    "data[data.duplicated(subset = ['full_text', 'id_str', 'retweet_count'])].head(10)"
   ]
  },
  {
   "cell_type": "code",
   "execution_count": 8,
   "id": "f1d94386",
   "metadata": {},
   "outputs": [],
   "source": [
    "# Duplicate data filtering\n",
    "data = data.drop_duplicates(subset = ['full_text', 'id_str', 'retweet_count'])"
   ]
  },
  {
   "cell_type": "code",
   "execution_count": 9,
   "id": "f5e82215",
   "metadata": {},
   "outputs": [
    {
     "data": {
      "text/plain": [
       "False    1564\n",
       "dtype: int64"
      ]
     },
     "execution_count": 9,
     "metadata": {},
     "output_type": "execute_result"
    }
   ],
   "source": [
    "# Data Duplicate checking - validation\n",
    "data.duplicated(subset = ['full_text', 'id_str', 'retweet_count']).value_counts()"
   ]
  },
  {
   "cell_type": "code",
   "execution_count": 10,
   "id": "b8e3d826",
   "metadata": {},
   "outputs": [],
   "source": [
    "# Define prompt and ingestion script\n",
    "def prompt_enrichment(tweet_comment: str) -> str:\n",
    "    prompt = \\\n",
    "    f\"\"\"\n",
    "    Ekstraksi informasi yang dibutuhkan berdasarkan komentar twitter dibawah, dengan response cukup sesuai yang di definisikan tanpa penjelasan tambahan.\n",
    "\n",
    "    komentar_twitter: \"{tweet_comment}\"\n",
    "\n",
    "    Untuk response cukup isi dengan format dibawah.\n",
    "    named_entity_recognition: [Jawaban anda: cakupan NER sesuai label \"PERSON\" atau \"ORGANIZATION\" saja]\n",
    "    aspect_sentiment: [Identifikasi verb / noun-phrase hasil dari part-of-speech di dalam komentar, disertai dengan nilai sentiment masing-masing aspect dengan format <aspect (sentiment)>]\n",
    "    \"\"\"\n",
    "    return prompt\n",
    "\n",
    "def ingest_openai(tweet_comment: str, model_base: str = \"gpt-3.5-turbo\") -> Tuple[str, int]: \n",
    "    token_usage = 0\n",
    "    response_extraction = \"\"\n",
    "    try:\n",
    "        response = openai.ChatCompletion.create(\n",
    "            model = model_base, \n",
    "            messages = [{\"role\" : \"user\", \"content\" : prompt_enrichment(tweet_comment)}], \n",
    "            temperature = 0.1, max_tokens = 512, top_p = 1.0, \n",
    "            frequency_penalty = 0.0, presence_penalty = 0.0\n",
    "        )\n",
    "        response_extraction = response[\"choices\"][0][\"message\"][\"content\"]\n",
    "        token_usage = response[\"usage\"][\"total_tokens\"]\n",
    "    except Exception as E:\n",
    "        print(f\"[ERROR] - {E}\")\n",
    "        print(\"Retry with Recursive Func\")\n",
    "        time.sleep(5)\n",
    "        ingest_openai(tweet_comment = tweet_comment)\n",
    "    return response_extraction, token_usage"
   ]
  },
  {
   "cell_type": "code",
   "execution_count": 13,
   "id": "6447e99d",
   "metadata": {},
   "outputs": [
    {
     "name": "stdout",
     "output_type": "stream",
     "text": [
      "Total Rows: 1564\n"
     ]
    }
   ],
   "source": [
    "# Check total rows\n",
    "print(f\"Total Rows: {data.shape[0]}\")"
   ]
  },
  {
   "cell_type": "code",
   "execution_count": 11,
   "id": "e8a8dc81",
   "metadata": {},
   "outputs": [
    {
     "name": "stdout",
     "output_type": "stream",
     "text": [
      "[COMMENT]\n",
      "Komisi Pemilihan Umum (KPU) RI telah menetapkan nomor urut terhadap tiga calon presiden dan wakil presiden di Pilpres 2024.  #BersamaIndonesiaMaju #PrabowoGibranIstimewa #PrabowoGemoy Prabowo Subianto\n",
      "[RESULT - Token Usage: 279]\n",
      "named_entity_recognition: [\"Komisi Pemilihan Umum (KPU) RI\", \"Prabowo Subianto\"]\n",
      "aspect_sentiment: [\"menetapkan nomor urut (positive)\", \"tiga calon presiden dan wakil presiden (neutral)\"]\n"
     ]
    }
   ],
   "source": [
    "# Test ingestion\n",
    "comment = data['full_text'].sample(1).values[0]\n",
    "extraction, token_usage = ingest_openai(tweet_comment = comment)\n",
    "print(f\"[COMMENT]\\n{comment}\\n[RESULT - Token Usage: {token_usage}]\\n{extraction}\")"
   ]
  },
  {
   "cell_type": "code",
   "execution_count": 14,
   "id": "36092a07",
   "metadata": {},
   "outputs": [],
   "source": [
    "# Apply on entire dataset\n",
    "final_result_extraction, final_token_usage = [], []"
   ]
  },
  {
   "cell_type": "code",
   "execution_count": 15,
   "id": "7072d5e2",
   "metadata": {},
   "outputs": [
    {
     "name": "stderr",
     "output_type": "stream",
     "text": [
      "Ingestion Start:   1%|▋                                                            | 19/1564 [07:40<6:43:15, 15.66s/it]"
     ]
    },
    {
     "name": "stdout",
     "output_type": "stream",
     "text": [
      "[ERROR] - Request timed out: HTTPSConnectionPool(host='api.openai.com', port=443): Read timed out. (read timeout=600)\n",
      "Retry with Recursive Func\n"
     ]
    },
    {
     "name": "stderr",
     "output_type": "stream",
     "text": [
      "Ingestion Start:   2%|█▍                                                          | 36/1564 [29:06<18:26:39, 43.46s/it]"
     ]
    },
    {
     "name": "stdout",
     "output_type": "stream",
     "text": [
      "[ERROR] - Request timed out: HTTPSConnectionPool(host='api.openai.com', port=443): Read timed out. (read timeout=600)\n",
      "Retry with Recursive Func\n"
     ]
    },
    {
     "name": "stderr",
     "output_type": "stream",
     "text": [
      "Ingestion Start:   4%|██▍                                                          | 63/1564 [44:38<6:37:56, 15.91s/it]"
     ]
    },
    {
     "name": "stdout",
     "output_type": "stream",
     "text": [
      "[ERROR] - Request timed out: HTTPSConnectionPool(host='api.openai.com', port=443): Read timed out. (read timeout=600)\n",
      "Retry with Recursive Func\n"
     ]
    },
    {
     "name": "stderr",
     "output_type": "stream",
     "text": [
      "Ingestion Start:   5%|██▉                                                          | 76/1564 [57:51<6:08:41, 14.87s/it]"
     ]
    },
    {
     "name": "stdout",
     "output_type": "stream",
     "text": [
      "[ERROR] - Request timed out: HTTPSConnectionPool(host='api.openai.com', port=443): Read timed out. (read timeout=600)\n",
      "Retry with Recursive Func\n"
     ]
    },
    {
     "name": "stderr",
     "output_type": "stream",
     "text": [
      "Ingestion Start:   7%|███▊                                                      | 102/1564 [1:19:19<3:43:36,  9.18s/it]"
     ]
    },
    {
     "name": "stdout",
     "output_type": "stream",
     "text": [
      "[ERROR] - Request timed out: HTTPSConnectionPool(host='api.openai.com', port=443): Read timed out. (read timeout=600)\n",
      "Retry with Recursive Func\n",
      "[ERROR] - Request timed out: HTTPSConnectionPool(host='api.openai.com', port=443): Read timed out. (read timeout=600)\n",
      "Retry with Recursive Func\n"
     ]
    },
    {
     "name": "stderr",
     "output_type": "stream",
     "text": [
      "Ingestion Start:   8%|████▋                                                     | 126/1564 [1:51:21<4:05:45, 10.25s/it]"
     ]
    },
    {
     "name": "stdout",
     "output_type": "stream",
     "text": [
      "[ERROR] - The server is overloaded or not ready yet.\n",
      "Retry with Recursive Func\n"
     ]
    },
    {
     "name": "stderr",
     "output_type": "stream",
     "text": [
      "Ingestion Start:  10%|█████▌                                                    | 149/1564 [2:08:17<4:53:27, 12.44s/it]"
     ]
    },
    {
     "name": "stdout",
     "output_type": "stream",
     "text": [
      "[ERROR] - The server is overloaded or not ready yet.\n",
      "Retry with Recursive Func\n"
     ]
    },
    {
     "name": "stderr",
     "output_type": "stream",
     "text": [
      "Ingestion Start:  11%|██████▍                                                   | 174/1564 [2:28:49<6:07:45, 15.87s/it]"
     ]
    },
    {
     "name": "stdout",
     "output_type": "stream",
     "text": [
      "[ERROR] - The server is overloaded or not ready yet.\n",
      "Retry with Recursive Func\n"
     ]
    },
    {
     "name": "stderr",
     "output_type": "stream",
     "text": [
      "Ingestion Start:  11%|██████▍                                                  | 177/1564 [2:31:18<12:27:23, 32.33s/it]"
     ]
    },
    {
     "name": "stdout",
     "output_type": "stream",
     "text": [
      "[ERROR] - Request timed out: HTTPSConnectionPool(host='api.openai.com', port=443): Read timed out. (read timeout=600)\n",
      "Retry with Recursive Func\n"
     ]
    },
    {
     "name": "stderr",
     "output_type": "stream",
     "text": [
      "Ingestion Start:  12%|███████▏                                                  | 195/1564 [2:46:45<8:09:27, 21.45s/it]"
     ]
    },
    {
     "name": "stdout",
     "output_type": "stream",
     "text": [
      "[ERROR] - Request timed out: HTTPSConnectionPool(host='api.openai.com', port=443): Read timed out. (read timeout=600)\n",
      "Retry with Recursive Func\n"
     ]
    },
    {
     "name": "stderr",
     "output_type": "stream",
     "text": [
      "Ingestion Start:  13%|███████▎                                                 | 199/1564 [2:57:21<27:32:33, 72.64s/it]"
     ]
    },
    {
     "name": "stdout",
     "output_type": "stream",
     "text": [
      "[ERROR] - The server is overloaded or not ready yet.\n",
      "Retry with Recursive Func\n"
     ]
    },
    {
     "name": "stderr",
     "output_type": "stream",
     "text": [
      "Ingestion Start:  13%|███████▎                                                 | 202/1564 [2:58:22<14:36:16, 38.60s/it]"
     ]
    },
    {
     "name": "stdout",
     "output_type": "stream",
     "text": [
      "[ERROR] - The server is overloaded or not ready yet.\n",
      "Retry with Recursive Func\n"
     ]
    },
    {
     "name": "stderr",
     "output_type": "stream",
     "text": [
      "Ingestion Start:  13%|███████▍                                                 | 205/1564 [3:00:05<13:06:18, 34.72s/it]"
     ]
    },
    {
     "name": "stdout",
     "output_type": "stream",
     "text": [
      "[ERROR] - Request timed out: HTTPSConnectionPool(host='api.openai.com', port=443): Read timed out. (read timeout=600)\n",
      "Retry with Recursive Func\n",
      "[ERROR] - The server is overloaded or not ready yet.\n",
      "Retry with Recursive Func\n",
      "[ERROR] - Request timed out: HTTPSConnectionPool(host='api.openai.com', port=443): Read timed out. (read timeout=600)\n",
      "Retry with Recursive Func\n",
      "[ERROR] - The server is overloaded or not ready yet.\n",
      "Retry with Recursive Func\n"
     ]
    },
    {
     "name": "stderr",
     "output_type": "stream",
     "text": [
      "Ingestion Start:  14%|████████                                                  | 218/1564 [3:35:01<6:53:09, 18.42s/it]"
     ]
    },
    {
     "name": "stdout",
     "output_type": "stream",
     "text": [
      "[ERROR] - The server is overloaded or not ready yet.\n",
      "Retry with Recursive Func\n"
     ]
    },
    {
     "name": "stderr",
     "output_type": "stream",
     "text": [
      "Ingestion Start:  15%|████████▌                                                 | 230/1564 [3:43:20<5:50:06, 15.75s/it]"
     ]
    },
    {
     "name": "stdout",
     "output_type": "stream",
     "text": [
      "[ERROR] - The server is overloaded or not ready yet.\n",
      "Retry with Recursive Func\n"
     ]
    },
    {
     "name": "stderr",
     "output_type": "stream",
     "text": [
      "Ingestion Start:  16%|█████████▎                                                | 252/1564 [3:53:26<6:15:50, 17.19s/it]"
     ]
    },
    {
     "name": "stdout",
     "output_type": "stream",
     "text": [
      "[ERROR] - Request timed out: HTTPSConnectionPool(host='api.openai.com', port=443): Read timed out. (read timeout=600)\n",
      "Retry with Recursive Func\n"
     ]
    },
    {
     "name": "stderr",
     "output_type": "stream",
     "text": [
      "Ingestion Start:  17%|█████████▋                                               | 265/1564 [4:09:32<28:04:03, 77.79s/it]"
     ]
    },
    {
     "name": "stdout",
     "output_type": "stream",
     "text": [
      "[ERROR] - The server is overloaded or not ready yet.\n",
      "Retry with Recursive Func\n"
     ]
    },
    {
     "name": "stderr",
     "output_type": "stream",
     "text": [
      "Ingestion Start:  17%|█████████▊                                               | 269/1564 [4:17:01<24:25:14, 67.89s/it]"
     ]
    },
    {
     "name": "stdout",
     "output_type": "stream",
     "text": [
      "[ERROR] - The server is overloaded or not ready yet.\n",
      "Retry with Recursive Func\n",
      "[ERROR] - The server is overloaded or not ready yet.\n",
      "Retry with Recursive Func\n",
      "[ERROR] - Request timed out: HTTPSConnectionPool(host='api.openai.com', port=443): Read timed out. (read timeout=600)\n",
      "Retry with Recursive Func\n"
     ]
    },
    {
     "name": "stderr",
     "output_type": "stream",
     "text": [
      "Ingestion Start:  20%|███████████▎                                              | 305/1564 [4:38:32<4:02:15, 11.54s/it]"
     ]
    },
    {
     "name": "stdout",
     "output_type": "stream",
     "text": [
      "[ERROR] - The server is overloaded or not ready yet.\n",
      "Retry with Recursive Func\n"
     ]
    },
    {
     "name": "stderr",
     "output_type": "stream",
     "text": [
      "Ingestion Start:  20%|███████████▌                                              | 311/1564 [4:41:13<4:17:58, 12.35s/it]"
     ]
    },
    {
     "name": "stdout",
     "output_type": "stream",
     "text": [
      "[ERROR] - The server is overloaded or not ready yet.\n",
      "Retry with Recursive Func\n"
     ]
    },
    {
     "name": "stderr",
     "output_type": "stream",
     "text": [
      "Ingestion Start:  20%|███████████▍                                             | 313/1564 [4:47:41<30:43:09, 88.40s/it]"
     ]
    },
    {
     "name": "stdout",
     "output_type": "stream",
     "text": [
      "[ERROR] - Request timed out: HTTPSConnectionPool(host='api.openai.com', port=443): Read timed out. (read timeout=600)\n",
      "Retry with Recursive Func\n"
     ]
    },
    {
     "name": "stderr",
     "output_type": "stream",
     "text": [
      "Ingestion Start:  21%|████████████                                              | 326/1564 [4:59:41<4:37:20, 13.44s/it]"
     ]
    },
    {
     "name": "stdout",
     "output_type": "stream",
     "text": [
      "[ERROR] - Request timed out: HTTPSConnectionPool(host='api.openai.com', port=443): Read timed out. (read timeout=600)\n",
      "Retry with Recursive Func\n"
     ]
    },
    {
     "name": "stderr",
     "output_type": "stream",
     "text": [
      "Ingestion Start:  22%|████████████▊                                             | 345/1564 [5:13:19<3:59:37, 11.79s/it]"
     ]
    },
    {
     "name": "stdout",
     "output_type": "stream",
     "text": [
      "[ERROR] - The server is overloaded or not ready yet.\n",
      "Retry with Recursive Func\n"
     ]
    },
    {
     "name": "stderr",
     "output_type": "stream",
     "text": [
      "Ingestion Start:  23%|█████████████▍                                            | 362/1564 [5:17:50<3:48:55, 11.43s/it]"
     ]
    },
    {
     "name": "stdout",
     "output_type": "stream",
     "text": [
      "[ERROR] - Request timed out: HTTPSConnectionPool(host='api.openai.com', port=443): Read timed out. (read timeout=600)\n",
      "Retry with Recursive Func\n"
     ]
    },
    {
     "name": "stderr",
     "output_type": "stream",
     "text": [
      "\r",
      "Ingestion Start:  23%|████████████▉                                           | 363/1564 [5:28:02<63:54:04, 191.54s/it]"
     ]
    },
    {
     "name": "stdout",
     "output_type": "stream",
     "text": [
      "[ERROR] - The server is overloaded or not ready yet.\n",
      "Retry with Recursive Func\n"
     ]
    },
    {
     "name": "stderr",
     "output_type": "stream",
     "text": [
      "Ingestion Start:  23%|█████████████▏                                          | 367/1564 [5:40:14<67:54:21, 204.23s/it]"
     ]
    },
    {
     "name": "stdout",
     "output_type": "stream",
     "text": [
      "[ERROR] - Request timed out: HTTPSConnectionPool(host='api.openai.com', port=443): Read timed out. (read timeout=600)\n",
      "Retry with Recursive Func\n"
     ]
    },
    {
     "name": "stderr",
     "output_type": "stream",
     "text": [
      "Ingestion Start:  24%|█████████████▌                                           | 372/1564 [5:51:50<30:17:52, 91.50s/it]"
     ]
    },
    {
     "name": "stdout",
     "output_type": "stream",
     "text": [
      "[ERROR] - Request timed out: HTTPSConnectionPool(host='api.openai.com', port=443): Read timed out. (read timeout=600)\n",
      "Retry with Recursive Func\n"
     ]
    },
    {
     "name": "stderr",
     "output_type": "stream",
     "text": [
      "Ingestion Start:  25%|██████████████▋                                           | 395/1564 [6:11:23<5:00:03, 15.40s/it]"
     ]
    },
    {
     "name": "stdout",
     "output_type": "stream",
     "text": [
      "[ERROR] - Request timed out: HTTPSConnectionPool(host='api.openai.com', port=443): Read timed out. (read timeout=600)\n",
      "Retry with Recursive Func\n"
     ]
    },
    {
     "name": "stderr",
     "output_type": "stream",
     "text": [
      "Ingestion Start:  26%|██████████████▌                                          | 400/1564 [6:22:11<16:52:25, 52.19s/it]"
     ]
    },
    {
     "name": "stdout",
     "output_type": "stream",
     "text": [
      "[ERROR] - Request timed out: HTTPSConnectionPool(host='api.openai.com', port=443): Read timed out. (read timeout=600)\n",
      "Retry with Recursive Func\n"
     ]
    },
    {
     "name": "stderr",
     "output_type": "stream",
     "text": [
      "\r",
      "Ingestion Start:  26%|██████████████▎                                         | 401/1564 [6:32:22<71:00:11, 219.79s/it]"
     ]
    },
    {
     "name": "stdout",
     "output_type": "stream",
     "text": [
      "[ERROR] - Request timed out: HTTPSConnectionPool(host='api.openai.com', port=443): Read timed out. (read timeout=600)\n",
      "Retry with Recursive Func\n"
     ]
    },
    {
     "name": "stderr",
     "output_type": "stream",
     "text": [
      "Ingestion Start:  28%|████████████████▏                                         | 438/1564 [6:47:18<2:08:55,  6.87s/it]"
     ]
    },
    {
     "name": "stdout",
     "output_type": "stream",
     "text": [
      "[ERROR] - Request timed out: HTTPSConnectionPool(host='api.openai.com', port=443): Read timed out. (read timeout=600)\n",
      "Retry with Recursive Func\n"
     ]
    },
    {
     "name": "stderr",
     "output_type": "stream",
     "text": [
      "Ingestion Start:  29%|████████████████▌                                         | 447/1564 [6:58:12<4:59:52, 16.11s/it]"
     ]
    },
    {
     "name": "stdout",
     "output_type": "stream",
     "text": [
      "[ERROR] - Request timed out: HTTPSConnectionPool(host='api.openai.com', port=443): Read timed out. (read timeout=600)\n",
      "Retry with Recursive Func\n"
     ]
    },
    {
     "name": "stderr",
     "output_type": "stream",
     "text": [
      "Ingestion Start:  31%|█████████████████▉                                        | 484/1564 [7:12:20<2:08:16,  7.13s/it]"
     ]
    },
    {
     "name": "stdout",
     "output_type": "stream",
     "text": [
      "[ERROR] - Request timed out: HTTPSConnectionPool(host='api.openai.com', port=443): Read timed out. (read timeout=600)\n",
      "Retry with Recursive Func\n"
     ]
    },
    {
     "name": "stderr",
     "output_type": "stream",
     "text": [
      "Ingestion Start:  38%|██████████████████████▎                                   | 601/1564 [7:34:58<2:50:47, 10.64s/it]"
     ]
    },
    {
     "name": "stdout",
     "output_type": "stream",
     "text": [
      "[ERROR] - Request timed out: HTTPSConnectionPool(host='api.openai.com', port=443): Read timed out. (read timeout=600)\n",
      "Retry with Recursive Func\n"
     ]
    },
    {
     "name": "stderr",
     "output_type": "stream",
     "text": [
      "Ingestion Start:  39%|██████████████████████                                   | 606/1564 [7:45:28<13:17:59, 49.98s/it]"
     ]
    },
    {
     "name": "stdout",
     "output_type": "stream",
     "text": [
      "[ERROR] - Request timed out: HTTPSConnectionPool(host='api.openai.com', port=443): Read timed out. (read timeout=600)\n",
      "Retry with Recursive Func\n"
     ]
    },
    {
     "name": "stderr",
     "output_type": "stream",
     "text": [
      "Ingestion Start:  39%|█████████████████████▊                                  | 609/1564 [7:55:46<28:57:12, 109.14s/it]"
     ]
    },
    {
     "name": "stdout",
     "output_type": "stream",
     "text": [
      "[ERROR] - Request timed out: HTTPSConnectionPool(host='api.openai.com', port=443): Read timed out. (read timeout=600)\n",
      "Retry with Recursive Func\n"
     ]
    },
    {
     "name": "stderr",
     "output_type": "stream",
     "text": [
      "Ingestion Start:  40%|███████████████████████                                   | 623/1564 [8:15:31<3:25:04, 13.08s/it]"
     ]
    },
    {
     "name": "stdout",
     "output_type": "stream",
     "text": [
      "[ERROR] - Request timed out: HTTPSConnectionPool(host='api.openai.com', port=443): Read timed out. (read timeout=600)\n",
      "Retry with Recursive Func\n"
     ]
    },
    {
     "name": "stderr",
     "output_type": "stream",
     "text": [
      "Ingestion Start:  42%|████████████████████████▌                                 | 662/1564 [8:38:18<1:34:09,  6.26s/it]"
     ]
    },
    {
     "name": "stdout",
     "output_type": "stream",
     "text": [
      "[ERROR] - Request timed out: HTTPSConnectionPool(host='api.openai.com', port=443): Read timed out. (read timeout=600)\n",
      "Retry with Recursive Func\n"
     ]
    },
    {
     "name": "stderr",
     "output_type": "stream",
     "text": [
      "Ingestion Start:  45%|██████████████████████████▎                               | 710/1564 [9:00:09<3:27:47, 14.60s/it]"
     ]
    },
    {
     "name": "stdout",
     "output_type": "stream",
     "text": [
      "[ERROR] - Request timed out: HTTPSConnectionPool(host='api.openai.com', port=443): Read timed out. (read timeout=600)\n",
      "Retry with Recursive Func\n"
     ]
    },
    {
     "name": "stderr",
     "output_type": "stream",
     "text": [
      "Ingestion Start:  48%|███████████████████████████▋                              | 746/1564 [9:41:35<9:45:53, 42.97s/it]"
     ]
    },
    {
     "name": "stdout",
     "output_type": "stream",
     "text": [
      "[ERROR] - Request timed out: HTTPSConnectionPool(host='api.openai.com', port=443): Read timed out. (read timeout=600)\n",
      "Retry with Recursive Func\n"
     ]
    },
    {
     "name": "stderr",
     "output_type": "stream",
     "text": [
      "Ingestion Start:  48%|███████████████████████████▉                              | 753/1564 [9:52:47<8:15:51, 36.69s/it]"
     ]
    },
    {
     "name": "stdout",
     "output_type": "stream",
     "text": [
      "[ERROR] - Request timed out: HTTPSConnectionPool(host='api.openai.com', port=443): Read timed out. (read timeout=600)\n",
      "Retry with Recursive Func\n"
     ]
    },
    {
     "name": "stderr",
     "output_type": "stream",
     "text": [
      "Ingestion Start:  52%|█████████████████████████████▌                           | 811/1564 [10:20:21<2:18:22, 11.03s/it]"
     ]
    },
    {
     "name": "stdout",
     "output_type": "stream",
     "text": [
      "[ERROR] - Request timed out: HTTPSConnectionPool(host='api.openai.com', port=443): Read timed out. (read timeout=600)\n",
      "Retry with Recursive Func\n"
     ]
    },
    {
     "name": "stderr",
     "output_type": "stream",
     "text": [
      "Ingestion Start:  57%|████████████████████████████████▍                        | 889/1564 [10:55:13<1:22:39,  7.35s/it]"
     ]
    },
    {
     "name": "stdout",
     "output_type": "stream",
     "text": [
      "[ERROR] - Request timed out: HTTPSConnectionPool(host='api.openai.com', port=443): Read timed out. (read timeout=600)\n",
      "Retry with Recursive Func\n"
     ]
    },
    {
     "name": "stderr",
     "output_type": "stream",
     "text": [
      "Ingestion Start:  57%|████████████████████████████████▌                        | 895/1564 [11:06:15<7:19:04, 39.38s/it]"
     ]
    },
    {
     "name": "stdout",
     "output_type": "stream",
     "text": [
      "[ERROR] - Request timed out: HTTPSConnectionPool(host='api.openai.com', port=443): Read timed out. (read timeout=600)\n",
      "Retry with Recursive Func\n"
     ]
    },
    {
     "name": "stderr",
     "output_type": "stream",
     "text": [
      "Ingestion Start:  62%|███████████████████████████████████▏                     | 965/1564 [11:32:20<1:40:08, 10.03s/it]"
     ]
    },
    {
     "name": "stdout",
     "output_type": "stream",
     "text": [
      "[ERROR] - Request timed out: HTTPSConnectionPool(host='api.openai.com', port=443): Read timed out. (read timeout=600)\n",
      "Retry with Recursive Func\n"
     ]
    },
    {
     "name": "stderr",
     "output_type": "stream",
     "text": [
      "Ingestion Start:  62%|███████████████████████████████████▍                     | 972/1564 [11:42:57<4:19:43, 26.32s/it]"
     ]
    },
    {
     "name": "stdout",
     "output_type": "stream",
     "text": [
      "[ERROR] - Request timed out: HTTPSConnectionPool(host='api.openai.com', port=443): Read timed out. (read timeout=600)\n",
      "Retry with Recursive Func\n"
     ]
    },
    {
     "name": "stderr",
     "output_type": "stream",
     "text": [
      "Ingestion Start:  64%|███████████████████████████████████▋                    | 998/1564 [12:13:14<12:00:17, 76.36s/it]"
     ]
    },
    {
     "name": "stdout",
     "output_type": "stream",
     "text": [
      "[ERROR] - Request timed out: HTTPSConnectionPool(host='api.openai.com', port=443): Read timed out. (read timeout=600)\n",
      "Retry with Recursive Func\n"
     ]
    },
    {
     "name": "stderr",
     "output_type": "stream",
     "text": [
      "Ingestion Start:  64%|██████████████████████████████████▌                   | 1000/1564 [12:23:35<26:26:48, 168.81s/it]"
     ]
    },
    {
     "name": "stdout",
     "output_type": "stream",
     "text": [
      "[ERROR] - Request timed out: HTTPSConnectionPool(host='api.openai.com', port=443): Read timed out. (read timeout=600)\n",
      "Retry with Recursive Func\n"
     ]
    },
    {
     "name": "stderr",
     "output_type": "stream",
     "text": [
      "Ingestion Start:  65%|████████████████████████████████████▍                   | 1019/1564 [12:36:38<1:47:35, 11.84s/it]"
     ]
    },
    {
     "name": "stdout",
     "output_type": "stream",
     "text": [
      "[ERROR] - Request timed out: HTTPSConnectionPool(host='api.openai.com', port=443): Read timed out. (read timeout=600)\n",
      "Retry with Recursive Func\n"
     ]
    },
    {
     "name": "stderr",
     "output_type": "stream",
     "text": [
      "Ingestion Start:  65%|████████████████████████████████████▋                   | 1024/1564 [12:47:09<7:29:42, 49.97s/it]"
     ]
    },
    {
     "name": "stdout",
     "output_type": "stream",
     "text": [
      "[ERROR] - Request timed out: HTTPSConnectionPool(host='api.openai.com', port=443): Read timed out. (read timeout=600)\n",
      "Retry with Recursive Func\n"
     ]
    },
    {
     "name": "stderr",
     "output_type": "stream",
     "text": [
      "Ingestion Start:  68%|██████████████████████████████████████▎                 | 1071/1564 [13:28:24<2:33:12, 18.65s/it]"
     ]
    },
    {
     "name": "stdout",
     "output_type": "stream",
     "text": [
      "[ERROR] - Request timed out: HTTPSConnectionPool(host='api.openai.com', port=443): Read timed out. (read timeout=600)\n",
      "Retry with Recursive Func\n"
     ]
    },
    {
     "name": "stderr",
     "output_type": "stream",
     "text": [
      "Ingestion Start:  69%|██████████████████████████████████████▋                 | 1079/1564 [13:39:21<3:10:21, 23.55s/it]"
     ]
    },
    {
     "name": "stdout",
     "output_type": "stream",
     "text": [
      "[ERROR] - Request timed out: HTTPSConnectionPool(host='api.openai.com', port=443): Read timed out. (read timeout=600)\n",
      "Retry with Recursive Func\n"
     ]
    },
    {
     "name": "stderr",
     "output_type": "stream",
     "text": [
      "Ingestion Start:  71%|███████████████████████████████████████▌                | 1104/1564 [13:56:41<1:19:00, 10.31s/it]"
     ]
    },
    {
     "name": "stdout",
     "output_type": "stream",
     "text": [
      "[ERROR] - Request timed out: HTTPSConnectionPool(host='api.openai.com', port=443): Read timed out. (read timeout=600)\n",
      "Retry with Recursive Func\n"
     ]
    },
    {
     "name": "stderr",
     "output_type": "stream",
     "text": [
      "Ingestion Start:  72%|████████████████████████████████████████▍               | 1128/1564 [14:11:15<1:14:02, 10.19s/it]"
     ]
    },
    {
     "name": "stdout",
     "output_type": "stream",
     "text": [
      "[ERROR] - Request timed out: HTTPSConnectionPool(host='api.openai.com', port=443): Read timed out. (read timeout=600)\n",
      "Retry with Recursive Func\n"
     ]
    },
    {
     "name": "stderr",
     "output_type": "stream",
     "text": [
      "Ingestion Start:  73%|████████████████████████████████████████▊               | 1139/1564 [14:22:51<1:52:28, 15.88s/it]"
     ]
    },
    {
     "name": "stdout",
     "output_type": "stream",
     "text": [
      "[ERROR] - Request timed out: HTTPSConnectionPool(host='api.openai.com', port=443): Read timed out. (read timeout=600)\n",
      "Retry with Recursive Func\n"
     ]
    },
    {
     "name": "stderr",
     "output_type": "stream",
     "text": [
      "Ingestion Start:  74%|█████████████████████████████████████████▍              | 1158/1564 [14:36:00<1:24:59, 12.56s/it]"
     ]
    },
    {
     "name": "stdout",
     "output_type": "stream",
     "text": [
      "[ERROR] - Request timed out: HTTPSConnectionPool(host='api.openai.com', port=443): Read timed out. (read timeout=600)\n",
      "Retry with Recursive Func\n"
     ]
    },
    {
     "name": "stderr",
     "output_type": "stream",
     "text": [
      "Ingestion Start:  78%|█████████████████████████████████████████████▍            | 1226/1564 [14:55:12<40:19,  7.16s/it]"
     ]
    },
    {
     "name": "stdout",
     "output_type": "stream",
     "text": [
      "[ERROR] - Request timed out: HTTPSConnectionPool(host='api.openai.com', port=443): Read timed out. (read timeout=600)\n",
      "Retry with Recursive Func\n"
     ]
    },
    {
     "name": "stderr",
     "output_type": "stream",
     "text": [
      "Ingestion Start:  81%|██████████████████████████████████████████████▉           | 1265/1564 [15:09:59<38:10,  7.66s/it]"
     ]
    },
    {
     "name": "stdout",
     "output_type": "stream",
     "text": [
      "[ERROR] - Request timed out: HTTPSConnectionPool(host='api.openai.com', port=443): Read timed out. (read timeout=600)\n",
      "Retry with Recursive Func\n"
     ]
    },
    {
     "name": "stderr",
     "output_type": "stream",
     "text": [
      "Ingestion Start:  81%|█████████████████████████████████████████████▌          | 1274/1564 [15:21:10<1:29:41, 18.56s/it]"
     ]
    },
    {
     "name": "stdout",
     "output_type": "stream",
     "text": [
      "[ERROR] - Request timed out: HTTPSConnectionPool(host='api.openai.com', port=443): Read timed out. (read timeout=600)\n",
      "Retry with Recursive Func\n"
     ]
    },
    {
     "name": "stderr",
     "output_type": "stream",
     "text": [
      "Ingestion Start:  83%|███████████████████████████████████████████████▉          | 1291/1564 [15:33:34<34:34,  7.60s/it]"
     ]
    },
    {
     "name": "stdout",
     "output_type": "stream",
     "text": [
      "[ERROR] - Request timed out: HTTPSConnectionPool(host='api.openai.com', port=443): Read timed out. (read timeout=600)\n",
      "Retry with Recursive Func\n"
     ]
    },
    {
     "name": "stderr",
     "output_type": "stream",
     "text": [
      "Ingestion Start:  84%|████████████████████████████████████████████████▍         | 1306/1564 [15:45:26<24:32,  5.71s/it]"
     ]
    },
    {
     "name": "stdout",
     "output_type": "stream",
     "text": [
      "[ERROR] - Request timed out: HTTPSConnectionPool(host='api.openai.com', port=443): Read timed out. (read timeout=600)\n",
      "Retry with Recursive Func\n"
     ]
    },
    {
     "name": "stderr",
     "output_type": "stream",
     "text": [
      "Ingestion Start:  87%|██████████████████████████████████████████████████▏       | 1354/1564 [16:02:15<32:11,  9.20s/it]"
     ]
    },
    {
     "name": "stdout",
     "output_type": "stream",
     "text": [
      "[ERROR] - HTTP code 502 from API (<html>\r\n",
      "<head><title>502 Bad Gateway</title></head>\r\n",
      "<body>\r\n",
      "<center><h1>502 Bad Gateway</h1></center>\r\n",
      "<hr><center>cloudflare</center>\r\n",
      "</body>\r\n",
      "</html>\r\n",
      ")\n",
      "Retry with Recursive Func\n"
     ]
    },
    {
     "name": "stderr",
     "output_type": "stream",
     "text": [
      "\r",
      "Ingestion Start:  87%|████████████████████████████████████████████████▌       | 1355/1564 [16:03:45<1:56:09, 33.35s/it]"
     ]
    },
    {
     "name": "stdout",
     "output_type": "stream",
     "text": [
      "[ERROR] - HTTP code 502 from API (<html>\r\n",
      "<head><title>502 Bad Gateway</title></head>\r\n",
      "<body>\r\n",
      "<center><h1>502 Bad Gateway</h1></center>\r\n",
      "<hr><center>cloudflare</center>\r\n",
      "</body>\r\n",
      "</html>\r\n",
      ")\n",
      "Retry with Recursive Func\n"
     ]
    },
    {
     "name": "stderr",
     "output_type": "stream",
     "text": [
      "Ingestion Start:  87%|██████████████████████████████████████████████████▍       | 1360/1564 [16:04:37<43:57, 12.93s/it]"
     ]
    },
    {
     "name": "stdout",
     "output_type": "stream",
     "text": [
      "[ERROR] - Request timed out: HTTPSConnectionPool(host='api.openai.com', port=443): Read timed out. (read timeout=600)\n",
      "Retry with Recursive Func\n"
     ]
    },
    {
     "name": "stderr",
     "output_type": "stream",
     "text": [
      "\r",
      "Ingestion Start:  87%|██████████████████████████████████████████████▉       | 1361/1564 [16:14:45<10:46:56, 191.21s/it]"
     ]
    },
    {
     "name": "stdout",
     "output_type": "stream",
     "text": [
      "[ERROR] - HTTP code 502 from API (<html>\r\n",
      "<head><title>502 Bad Gateway</title></head>\r\n",
      "<body>\r\n",
      "<center><h1>502 Bad Gateway</h1></center>\r\n",
      "<hr><center>cloudflare</center>\r\n",
      "</body>\r\n",
      "</html>\r\n",
      ")\n",
      "Retry with Recursive Func\n"
     ]
    },
    {
     "name": "stderr",
     "output_type": "stream",
     "text": [
      "Ingestion Start:  94%|██████████████████████████████████████████████████████▋   | 1473/1564 [16:30:36<10:48,  7.13s/it]"
     ]
    },
    {
     "name": "stdout",
     "output_type": "stream",
     "text": [
      "[ERROR] - Request timed out: HTTPSConnectionPool(host='api.openai.com', port=443): Read timed out. (read timeout=600)\n",
      "Retry with Recursive Func\n"
     ]
    },
    {
     "name": "stderr",
     "output_type": "stream",
     "text": [
      "Ingestion Start:  95%|████████████████████████████████████████████████████▉   | 1478/1564 [16:41:08<1:10:51, 49.44s/it]"
     ]
    },
    {
     "name": "stdout",
     "output_type": "stream",
     "text": [
      "[ERROR] - Request timed out: HTTPSConnectionPool(host='api.openai.com', port=443): Read timed out. (read timeout=600)\n",
      "Retry with Recursive Func\n"
     ]
    },
    {
     "name": "stderr",
     "output_type": "stream",
     "text": [
      "Ingestion Start:  95%|█████████████████████████████████████████████████████▏  | 1486/1564 [16:55:33<1:06:36, 51.23s/it]"
     ]
    },
    {
     "name": "stdout",
     "output_type": "stream",
     "text": [
      "[ERROR] - Request timed out: HTTPSConnectionPool(host='api.openai.com', port=443): Read timed out. (read timeout=600)\n",
      "Retry with Recursive Func\n"
     ]
    },
    {
     "name": "stderr",
     "output_type": "stream",
     "text": [
      "Ingestion Start:  98%|████████████████████████████████████████████████████████▋ | 1530/1564 [17:19:09<12:27, 21.99s/it]"
     ]
    },
    {
     "name": "stdout",
     "output_type": "stream",
     "text": [
      "[ERROR] - Request timed out: HTTPSConnectionPool(host='api.openai.com', port=443): Read timed out. (read timeout=600)\n",
      "Retry with Recursive Func\n"
     ]
    },
    {
     "name": "stderr",
     "output_type": "stream",
     "text": [
      "Ingestion Start:  99%|█████████████████████████████████████████████████████████▎| 1547/1564 [17:31:34<02:05,  7.38s/it]"
     ]
    },
    {
     "name": "stdout",
     "output_type": "stream",
     "text": [
      "[ERROR] - Request timed out: HTTPSConnectionPool(host='api.openai.com', port=443): Read timed out. (read timeout=600)\n",
      "Retry with Recursive Func\n"
     ]
    },
    {
     "name": "stderr",
     "output_type": "stream",
     "text": [
      "Ingestion Start: 100%|██████████████████████████████████████████████████████████| 1564/1564 [17:44:08<00:00, 40.82s/it]\n"
     ]
    }
   ],
   "source": [
    "# Iter and push into array\n",
    "for comment in tqdm(data[\"full_text\"], desc = \"Ingestion Start\"):\n",
    "    result, token = ingest_openai(tweet_comment = comment)\n",
    "    final_result_extraction.append(result)\n",
    "    final_token_usage.append(token)"
   ]
  },
  {
   "cell_type": "code",
   "execution_count": 16,
   "id": "290b2686",
   "metadata": {},
   "outputs": [
    {
     "data": {
      "text/plain": [
       "(1564, 1564)"
      ]
     },
     "execution_count": 16,
     "metadata": {},
     "output_type": "execute_result"
    }
   ],
   "source": [
    "len(final_result_extraction), len(final_token_usage)"
   ]
  },
  {
   "cell_type": "code",
   "execution_count": 19,
   "id": "06534b4e",
   "metadata": {},
   "outputs": [],
   "source": [
    "# Assign result into dataframe\n",
    "data['result extraction'] = final_result_extraction\n",
    "data['token usage'] = final_token_usage"
   ]
  },
  {
   "cell_type": "code",
   "execution_count": 20,
   "id": "14520371",
   "metadata": {},
   "outputs": [],
   "source": [
    "# Save into dataframe\n",
    "data.to_csv(\"../dataset/data_twitter_pemilu_2024_enrich [V2].csv\", index = False)"
   ]
  }
 ],
 "metadata": {
  "kernelspec": {
   "display_name": "Python 3 (ipykernel)",
   "language": "python",
   "name": "python3"
  },
  "language_info": {
   "codemirror_mode": {
    "name": "ipython",
    "version": 3
   },
   "file_extension": ".py",
   "mimetype": "text/x-python",
   "name": "python",
   "nbconvert_exporter": "python",
   "pygments_lexer": "ipython3",
   "version": "3.9.7"
  }
 },
 "nbformat": 4,
 "nbformat_minor": 5
}
