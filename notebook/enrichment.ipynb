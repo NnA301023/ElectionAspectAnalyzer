{
 "cells": [
  {
   "cell_type": "markdown",
   "metadata": {},
   "source": [
    "```\n",
    "Proof on Concept:\n",
    "\n",
    "Twitter Post (1 baris):\n",
    "\n",
    "  (ideal)  \n",
    "  - Filtrasi keyword   (udah ada di dalam dataset)\n",
    "  - Ekstraksi Person   (by PoS atau @)\n",
    "  - Ekstraksi Aspect   (by Noun dari NER / PoS / KBBI)\n",
    "  - Generate Sentiment (per aspect terdeteksi) -> translate ke bahasa inggris (bert pair cls)\n",
    " \n",
    "  (mvp)\n",
    "  - utilize openAI at all. :D\n",
    "\n",
    "Expected Result (tabular format)\n",
    "\n",
    "source data:\n",
    "| name | tweets | re-tweets | ... |\n",
    "\n",
    "result enrichment:\n",
    "| name | tweets | re-tweets | Person / Organization (NER) | Aspect - Sentiment (ABSA) | Topic - (input by user)\n",
    "```"
   ]
  },
  {
   "cell_type": "code",
   "execution_count": 36,
   "metadata": {},
   "outputs": [],
   "source": [
    "# Load libraries \n",
    "import os\n",
    "import re\n",
    "import time\n",
    "import openai \n",
    "import pandas as pd \n",
    "from tqdm import tqdm\n",
    "from typing import Tuple\n",
    "from dotenv import load_dotenv\n",
    "\n",
    "\n",
    "load_dotenv()\n",
    "pd.set_option(\"display.max_columns\", None)"
   ]
  },
  {
   "cell_type": "code",
   "execution_count": 11,
   "metadata": {},
   "outputs": [],
   "source": [
    "# Setting credentials\n",
    "OPENAI_KEY = os.getenv(\"OPENAI_API_KEY\", default = None) \n",
    "openai.api_key = OPENAI_KEY"
   ]
  },
  {
   "cell_type": "code",
   "execution_count": 37,
   "metadata": {},
   "outputs": [
    {
     "data": {
      "text/html": [
       "<div>\n",
       "<style scoped>\n",
       "    .dataframe tbody tr th:only-of-type {\n",
       "        vertical-align: middle;\n",
       "    }\n",
       "\n",
       "    .dataframe tbody tr th {\n",
       "        vertical-align: top;\n",
       "    }\n",
       "\n",
       "    .dataframe thead th {\n",
       "        text-align: right;\n",
       "    }\n",
       "</style>\n",
       "<table border=\"1\" class=\"dataframe\">\n",
       "  <thead>\n",
       "    <tr style=\"text-align: right;\">\n",
       "      <th></th>\n",
       "      <th>name</th>\n",
       "      <th>text</th>\n",
       "      <th>rt</th>\n",
       "      <th>id</th>\n",
       "    </tr>\n",
       "  </thead>\n",
       "  <tbody>\n",
       "    <tr>\n",
       "      <th>0</th>\n",
       "      <td>prabowo</td>\n",
       "      <td>Megawati Soekarnoputri, diyakini akan menjadik...</td>\n",
       "      <td>0</td>\n",
       "      <td>1552261054964461568</td>\n",
       "    </tr>\n",
       "    <tr>\n",
       "      <th>1</th>\n",
       "      <td>prabowo</td>\n",
       "      <td>Diremehkan, Citra Pak @prabowo menjadi terting...</td>\n",
       "      <td>3</td>\n",
       "      <td>1551415694738313216</td>\n",
       "    </tr>\n",
       "    <tr>\n",
       "      <th>2</th>\n",
       "      <td>prabowo</td>\n",
       "      <td>Dulu Tuhan disuruh menangin Prabowo atau kagak...</td>\n",
       "      <td>0</td>\n",
       "      <td>1551415694738313216</td>\n",
       "    </tr>\n",
       "    <tr>\n",
       "      <th>3</th>\n",
       "      <td>prabowo</td>\n",
       "      <td>@SantorinisSun Loh miss valak masih menyembah ...</td>\n",
       "      <td>0</td>\n",
       "      <td>1551415694738313216</td>\n",
       "    </tr>\n",
       "    <tr>\n",
       "      <th>4</th>\n",
       "      <td>prabowo</td>\n",
       "      <td>Yth bapak Presiden republik Indonesia Ir Haji ...</td>\n",
       "      <td>39</td>\n",
       "      <td>1552234605419237376</td>\n",
       "    </tr>\n",
       "  </tbody>\n",
       "</table>\n",
       "</div>"
      ],
      "text/plain": [
       "      name                                               text  rt  \\\n",
       "0  prabowo  Megawati Soekarnoputri, diyakini akan menjadik...   0   \n",
       "1  prabowo  Diremehkan, Citra Pak @prabowo menjadi terting...   3   \n",
       "2  prabowo  Dulu Tuhan disuruh menangin Prabowo atau kagak...   0   \n",
       "3  prabowo  @SantorinisSun Loh miss valak masih menyembah ...   0   \n",
       "4  prabowo  Yth bapak Presiden republik Indonesia Ir Haji ...  39   \n",
       "\n",
       "                    id  \n",
       "0  1552261054964461568  \n",
       "1  1551415694738313216  \n",
       "2  1551415694738313216  \n",
       "3  1551415694738313216  \n",
       "4  1552234605419237376  "
      ]
     },
     "execution_count": 37,
     "metadata": {},
     "output_type": "execute_result"
    }
   ],
   "source": [
    "# Load dataset\n",
    "data = pd.read_csv(\"../dataset/data_twitter_pemilu_2024.csv\")\n",
    "data.head()"
   ]
  },
  {
   "cell_type": "code",
   "execution_count": 38,
   "metadata": {},
   "outputs": [
    {
     "data": {
      "text/plain": [
       "False    625\n",
       "True     160\n",
       "Name: count, dtype: int64"
      ]
     },
     "execution_count": 38,
     "metadata": {},
     "output_type": "execute_result"
    }
   ],
   "source": [
    "# Data Duplicate checking\n",
    "data.duplicated(subset = ['text', 'id', 'rt']).value_counts()"
   ]
  },
  {
   "cell_type": "code",
   "execution_count": 39,
   "metadata": {},
   "outputs": [
    {
     "data": {
      "text/html": [
       "<div>\n",
       "<style scoped>\n",
       "    .dataframe tbody tr th:only-of-type {\n",
       "        vertical-align: middle;\n",
       "    }\n",
       "\n",
       "    .dataframe tbody tr th {\n",
       "        vertical-align: top;\n",
       "    }\n",
       "\n",
       "    .dataframe thead th {\n",
       "        text-align: right;\n",
       "    }\n",
       "</style>\n",
       "<table border=\"1\" class=\"dataframe\">\n",
       "  <thead>\n",
       "    <tr style=\"text-align: right;\">\n",
       "      <th></th>\n",
       "      <th>name</th>\n",
       "      <th>text</th>\n",
       "      <th>rt</th>\n",
       "      <th>id</th>\n",
       "    </tr>\n",
       "  </thead>\n",
       "  <tbody>\n",
       "    <tr>\n",
       "      <th>10</th>\n",
       "      <td>prabowo</td>\n",
       "      <td>Yth bapak Presiden republik Indonesia Ir Haji ...</td>\n",
       "      <td>39</td>\n",
       "      <td>1552234605419237376</td>\n",
       "    </tr>\n",
       "    <tr>\n",
       "      <th>15</th>\n",
       "      <td>prabowo</td>\n",
       "      <td>Kapolri Jenderal Listyo Sigit Prabowo mengatak...</td>\n",
       "      <td>1</td>\n",
       "      <td>1552476373855244289</td>\n",
       "    </tr>\n",
       "    <tr>\n",
       "      <th>21</th>\n",
       "      <td>prabowo</td>\n",
       "      <td>Ngopi daring tayang siang ini di Youtube @kemh...</td>\n",
       "      <td>2</td>\n",
       "      <td>1551476092749447168</td>\n",
       "    </tr>\n",
       "    <tr>\n",
       "      <th>22</th>\n",
       "      <td>prabowo</td>\n",
       "      <td>Yth bapak Presiden republik Indonesia Ir Haji ...</td>\n",
       "      <td>39</td>\n",
       "      <td>1552234605419237376</td>\n",
       "    </tr>\n",
       "    <tr>\n",
       "      <th>23</th>\n",
       "      <td>prabowo</td>\n",
       "      <td>Yth bapak Presiden republik Indonesia Ir Haji ...</td>\n",
       "      <td>39</td>\n",
       "      <td>1552234605419237376</td>\n",
       "    </tr>\n",
       "    <tr>\n",
       "      <th>33</th>\n",
       "      <td>prabowo</td>\n",
       "      <td>Yth bapak Presiden republik Indonesia Ir Haji ...</td>\n",
       "      <td>39</td>\n",
       "      <td>1552234605419237376</td>\n",
       "    </tr>\n",
       "    <tr>\n",
       "      <th>37</th>\n",
       "      <td>prabowo</td>\n",
       "      <td>Yth bapak Presiden republik Indonesia Ir Haji ...</td>\n",
       "      <td>39</td>\n",
       "      <td>1552234605419237376</td>\n",
       "    </tr>\n",
       "    <tr>\n",
       "      <th>42</th>\n",
       "      <td>prabowo</td>\n",
       "      <td>Yth bapak Presiden republik Indonesia Ir Haji ...</td>\n",
       "      <td>39</td>\n",
       "      <td>1552234605419237376</td>\n",
       "    </tr>\n",
       "    <tr>\n",
       "      <th>45</th>\n",
       "      <td>prabowo</td>\n",
       "      <td>Catat nih, Pak Prabowo menduduki tempat dipunc...</td>\n",
       "      <td>2</td>\n",
       "      <td>1551415694880677891</td>\n",
       "    </tr>\n",
       "    <tr>\n",
       "      <th>49</th>\n",
       "      <td>prabowo</td>\n",
       "      <td>Yth bapak Presiden republik Indonesia Ir Haji ...</td>\n",
       "      <td>39</td>\n",
       "      <td>1552234605419237376</td>\n",
       "    </tr>\n",
       "  </tbody>\n",
       "</table>\n",
       "</div>"
      ],
      "text/plain": [
       "       name                                               text  rt  \\\n",
       "10  prabowo  Yth bapak Presiden republik Indonesia Ir Haji ...  39   \n",
       "15  prabowo  Kapolri Jenderal Listyo Sigit Prabowo mengatak...   1   \n",
       "21  prabowo  Ngopi daring tayang siang ini di Youtube @kemh...   2   \n",
       "22  prabowo  Yth bapak Presiden republik Indonesia Ir Haji ...  39   \n",
       "23  prabowo  Yth bapak Presiden republik Indonesia Ir Haji ...  39   \n",
       "33  prabowo  Yth bapak Presiden republik Indonesia Ir Haji ...  39   \n",
       "37  prabowo  Yth bapak Presiden republik Indonesia Ir Haji ...  39   \n",
       "42  prabowo  Yth bapak Presiden republik Indonesia Ir Haji ...  39   \n",
       "45  prabowo  Catat nih, Pak Prabowo menduduki tempat dipunc...   2   \n",
       "49  prabowo  Yth bapak Presiden republik Indonesia Ir Haji ...  39   \n",
       "\n",
       "                     id  \n",
       "10  1552234605419237376  \n",
       "15  1552476373855244289  \n",
       "21  1551476092749447168  \n",
       "22  1552234605419237376  \n",
       "23  1552234605419237376  \n",
       "33  1552234605419237376  \n",
       "37  1552234605419237376  \n",
       "42  1552234605419237376  \n",
       "45  1551415694880677891  \n",
       "49  1552234605419237376  "
      ]
     },
     "execution_count": 39,
     "metadata": {},
     "output_type": "execute_result"
    }
   ],
   "source": [
    "# Overview duplicated data\n",
    "data[data.duplicated(subset = ['text', 'id', 'rt'])].head(10)"
   ]
  },
  {
   "cell_type": "code",
   "execution_count": 40,
   "metadata": {},
   "outputs": [],
   "source": [
    "# Duplicate data filtering\n",
    "data = data.drop_duplicates(subset = ['text', 'id', 'rt'])"
   ]
  },
  {
   "cell_type": "code",
   "execution_count": 41,
   "metadata": {},
   "outputs": [
    {
     "data": {
      "text/plain": [
       "False    625\n",
       "Name: count, dtype: int64"
      ]
     },
     "execution_count": 41,
     "metadata": {},
     "output_type": "execute_result"
    }
   ],
   "source": [
    "# Data Duplicate checking - validation\n",
    "data.duplicated(subset = ['text', 'id', 'rt']).value_counts()"
   ]
  },
  {
   "cell_type": "code",
   "execution_count": 42,
   "metadata": {},
   "outputs": [],
   "source": [
    "# Define prompt and ingestion script\n",
    "def prompt_enrichment(tweet_comment: str) -> str:\n",
    "    prompt = \\\n",
    "    f\"\"\"\n",
    "    Ekstraksi informasi yang dibutuhkan berdasarkan komentar twitter dibawah, dengan response cukup sesuai yang di definisikan tanpa penjelasan tambahan.\n",
    "\n",
    "    komentar_twitter: \"{tweet_comment}\"\n",
    "\n",
    "    Untuk response cukup isi dengan format dibawah.\n",
    "    named_entity_recognition: [Jawaban anda: cakupan NER sesuai label \"PERSON\" atau \"ORGANIZATION\" saja]\n",
    "    aspect_sentiment: [Identifikasi verb / noun-phrase hasil dari part-of-speech di dalam komentar, disertai dengan nilai sentiment masing-masing aspect dengan format <aspect (sentiment)>]\n",
    "    \"\"\"\n",
    "    return prompt\n",
    "\n",
    "def ingest_openai(tweet_comment: str, model_base: str = \"gpt-3.5-turbo\") -> Tuple[str, int]: \n",
    "    token_usage = 0\n",
    "    response_extraction = \"\"\n",
    "    try:\n",
    "        response = openai.ChatCompletion.create(\n",
    "            model = model_base, \n",
    "            messages = [{\"role\" : \"user\", \"content\" : prompt_enrichment(tweet_comment)}], \n",
    "            temperature = 0.1, max_tokens = 512, top_p = 1.0, \n",
    "            frequency_penalty = 0.0, presence_penalty = 0.0\n",
    "        )\n",
    "        response_extraction = response[\"choices\"][0][\"message\"][\"content\"]\n",
    "        token_usage = response[\"usage\"][\"total_tokens\"]\n",
    "    except Exception as E:\n",
    "        print(f\"[ERROR] - {E}\")\n",
    "        print(\"Retry with Recursive Func\")\n",
    "        time.sleep(5)\n",
    "        ingest_openai(tweet_comment = tweet_comment)\n",
    "    return response_extraction, token_usage"
   ]
  },
  {
   "cell_type": "code",
   "execution_count": 45,
   "metadata": {},
   "outputs": [
    {
     "name": "stdout",
     "output_type": "stream",
     "text": [
      "[COMMENT]\n",
      "Puan tak masalah bahkan Ganjar jadi salah satu bacapres. Waktunya Puan Maharani\n",
      "[RESULT - Token Usage: 216]\n",
      "named_entity_recognition: [Puan, Ganjar, Puan Maharani]\n",
      "aspect_sentiment: [Puan (positive), Ganjar (positive), bacapres (positive), Waktunya Puan Maharani (neutral)]\n"
     ]
    }
   ],
   "source": [
    "# Test ingestion\n",
    "comment = data['text'].sample(1).values[0]\n",
    "extraction, token_usage = ingest_openai(tweet_comment = comment)\n",
    "print(f\"[COMMENT]\\n{comment}\\n[RESULT - Token Usage: {token_usage}]\\n{extraction}\")"
   ]
  },
  {
   "cell_type": "code",
   "execution_count": 46,
   "metadata": {},
   "outputs": [],
   "source": [
    "# Apply on entire dataset\n",
    "final_result_extraction, final_token_usage = [], []"
   ]
  },
  {
   "cell_type": "code",
   "execution_count": 48,
   "metadata": {},
   "outputs": [
    {
     "name": "stderr",
     "output_type": "stream",
     "text": [
      "Ingestion Start:  13%|█▎        | 84/625 [10:42<46:56,  5.21s/it]  "
     ]
    },
    {
     "name": "stdout",
     "output_type": "stream",
     "text": [
      "[ERROR] - Request timed out: HTTPSConnectionPool(host='api.openai.com', port=443): Read timed out. (read timeout=600)\n",
      "Retry with Recursive Func\n"
     ]
    },
    {
     "name": "stderr",
     "output_type": "stream",
     "text": [
      "Ingestion Start:  25%|██▌       | 158/625 [28:13<33:08,  4.26s/it]   "
     ]
    },
    {
     "name": "stdout",
     "output_type": "stream",
     "text": [
      "[ERROR] - The server is overloaded or not ready yet.\n",
      "Retry with Recursive Func\n"
     ]
    },
    {
     "name": "stderr",
     "output_type": "stream",
     "text": [
      "Ingestion Start:  45%|████▌     | 284/625 [40:18<22:14,  3.91s/it]  "
     ]
    },
    {
     "name": "stdout",
     "output_type": "stream",
     "text": [
      "[ERROR] - Request timed out: HTTPSConnectionPool(host='api.openai.com', port=443): Read timed out. (read timeout=600)\n",
      "Retry with Recursive Func\n"
     ]
    },
    {
     "name": "stderr",
     "output_type": "stream",
     "text": [
      "Ingestion Start:  61%|██████    | 379/625 [59:05<35:12,  8.59s/it]    "
     ]
    },
    {
     "name": "stdout",
     "output_type": "stream",
     "text": [
      "[ERROR] - Request timed out: HTTPSConnectionPool(host='api.openai.com', port=443): Read timed out. (read timeout=600)\n",
      "Retry with Recursive Func\n"
     ]
    },
    {
     "name": "stderr",
     "output_type": "stream",
     "text": [
      "Ingestion Start:  61%|██████    | 380/625 [1:09:17<12:53:12, 189.36s/it]"
     ]
    },
    {
     "name": "stdout",
     "output_type": "stream",
     "text": [
      "[ERROR] - HTTP code 502 from API (<html>\n",
      "<head><title>502 Bad Gateway</title></head>\n",
      "<body>\n",
      "<center><h1>502 Bad Gateway</h1></center>\n",
      "<hr><center>cloudflare</center>\n",
      "</body>\n",
      "</html>\n",
      ")\n",
      "Retry with Recursive Func\n"
     ]
    },
    {
     "name": "stderr",
     "output_type": "stream",
     "text": [
      "Ingestion Start: 100%|██████████| 625/625 [1:38:27<00:00,  9.45s/it]    \n"
     ]
    }
   ],
   "source": [
    "# Iter and push into array\n",
    "for comment in tqdm(data[\"text\"], desc = \"Ingestion Start\"):\n",
    "    result, token = ingest_openai(tweet_comment = comment)\n",
    "    final_result_extraction.append(result)\n",
    "    final_token_usage.append(token)"
   ]
  },
  {
   "cell_type": "code",
   "execution_count": 49,
   "metadata": {},
   "outputs": [],
   "source": [
    "# Assign result into dataframe\n",
    "data['result extraction'] = final_result_extraction\n",
    "data['token usage'] = final_token_usage"
   ]
  },
  {
   "cell_type": "code",
   "execution_count": 50,
   "metadata": {},
   "outputs": [],
   "source": [
    "# Save into dataframe\n",
    "data.to_csv(\"../dataset/data_twitter_pemilu_2024_enrich.csv\", index = False)"
   ]
  }
 ],
 "metadata": {
  "kernelspec": {
   "display_name": "Python 3 (ipykernel)",
   "language": "python",
   "name": "python3"
  },
  "language_info": {
   "codemirror_mode": {
    "name": "ipython",
    "version": 3
   },
   "file_extension": ".py",
   "mimetype": "text/x-python",
   "name": "python",
   "nbconvert_exporter": "python",
   "pygments_lexer": "ipython3",
   "version": "3.9.7"
  }
 },
 "nbformat": 4,
 "nbformat_minor": 2
}
